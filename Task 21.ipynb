{
 "cells": [
  {
   "cell_type": "markdown",
   "id": "73a3a186-ac33-4d86-98ef-7653c722e5e2",
   "metadata": {},
   "source": [
    "# Linear algebra and calculus in NumPy"
   ]
  },
  {
   "cell_type": "code",
   "execution_count": 130,
   "id": "dc8c92b5-4006-4687-b5c8-07066011e9b6",
   "metadata": {},
   "outputs": [],
   "source": [
    "import numpy as np\n",
    "import scipy.linalg"
   ]
  },
  {
   "cell_type": "markdown",
   "id": "6a91f90a-d0f3-414a-a5fd-0ec395cf1ce2",
   "metadata": {},
   "source": [
    "## Linear Algebra Tasks"
   ]
  },
  {
   "cell_type": "markdown",
   "id": "6033a799-3ab8-4e70-b064-2461ed8d0bbc",
   "metadata": {},
   "source": [
    "### Task 1: Matrix Creation and Manipulation"
   ]
  },
  {
   "cell_type": "markdown",
   "id": "3c8842b4-c07e-4b33-8cdb-815120907ae4",
   "metadata": {},
   "source": [
    " **Zero Matrix:** A matrix where all elements are zeros."
   ]
  },
  {
   "cell_type": "code",
   "execution_count": 49,
   "id": "d2dab234-bae1-4391-8990-02aae1aae518",
   "metadata": {},
   "outputs": [
    {
     "name": "stdout",
     "output_type": "stream",
     "text": [
      "[[0. 0. 0.]\n",
      " [0. 0. 0.]\n",
      " [0. 0. 0.]]\n"
     ]
    }
   ],
   "source": [
    "zero_matrix = np.zeros((3, 3))\n",
    "print(zero_matrix)"
   ]
  },
  {
   "cell_type": "markdown",
   "id": "05761ac7-bc79-4559-928b-0b69136a4410",
   "metadata": {},
   "source": [
    "**Identity Matrix:** A square matrix with ones on the diagonal and zeros elsewhere."
   ]
  },
  {
   "cell_type": "code",
   "execution_count": 60,
   "id": "0beb10d3-b496-4dd9-b6e3-0151f1c7afd6",
   "metadata": {},
   "outputs": [
    {
     "name": "stdout",
     "output_type": "stream",
     "text": [
      "[[1. 0. 0.]\n",
      " [0. 1. 0.]\n",
      " [0. 0. 1.]]\n"
     ]
    }
   ],
   "source": [
    "identity_matrix = np.eye(3)\n",
    "print(identity_matrix)"
   ]
  },
  {
   "cell_type": "markdown",
   "id": "0c987c4e-4420-4836-8c31-a2387353fbd5",
   "metadata": {},
   "source": [
    "**Random Matrix:** A matrix with random values."
   ]
  },
  {
   "cell_type": "code",
   "execution_count": 63,
   "id": "38b2cccc-f22a-4e83-931e-2101cfeeda2a",
   "metadata": {},
   "outputs": [
    {
     "name": "stdout",
     "output_type": "stream",
     "text": [
      "[[0.73538476 0.2232925  0.18168651]\n",
      " [0.56464133 0.3378251  0.88656115]\n",
      " [0.05309553 0.68287129 0.78090427]]\n"
     ]
    }
   ],
   "source": [
    "random_matrix = np.random.rand(3, 3)\n",
    "print(random_matrix)"
   ]
  },
  {
   "cell_type": "markdown",
   "id": "849e04cd-121e-4041-98a5-528e873298b9",
   "metadata": {},
   "source": [
    "**Performing Basic Matrix Operations**"
   ]
  },
  {
   "cell_type": "code",
   "execution_count": 71,
   "id": "1ea0c1c9-da6f-47fd-a126-154dfbd4ee75",
   "metadata": {},
   "outputs": [
    {
     "name": "stdout",
     "output_type": "stream",
     "text": [
      "Matrix Addition:\n",
      " [[ 6  8]\n",
      " [10 12]]\n",
      "Matrix Subtraction:\n",
      " [[-4 -4]\n",
      " [-4 -4]]\n",
      "Element-wise Multiplication:\n",
      " [[ 5 12]\n",
      " [21 32]]\n",
      "Matrix Multiplication:\n",
      " [[19 22]\n",
      " [43 50]]\n",
      "Transpose of A:\n",
      " [[1 3]\n",
      " [2 4]]\n",
      "Determinant of A: -2.0000000000000004\n",
      "Inverse of A:\n",
      " [[-2.   1. ]\n",
      " [ 1.5 -0.5]]\n"
     ]
    }
   ],
   "source": [
    "\n",
    "A = np.array([[1, 2], [3, 4]])\n",
    "B = np.array([[5, 6], [7, 8]])\n",
    "\n",
    "# Addition\n",
    "addition = A + B\n",
    "print(\"Matrix Addition:\\n\", addition)\n",
    "\n",
    "# Subtraction\n",
    "subtraction = A - B\n",
    "print(\"Matrix Subtraction:\\n\", subtraction)\n",
    "\n",
    "# Multiplication (element-wise)\n",
    "element_wise_mult = A * B\n",
    "print(\"Element-wise Multiplication:\\n\", element_wise_mult)\n",
    "\n",
    "# Matrix Multiplication\n",
    "matrix_mult = np.dot(A, B)\n",
    "print(\"Matrix Multiplication:\\n\", matrix_mult)\n",
    "\n",
    "# Transpose of a matrix\n",
    "transpose_A = A.T\n",
    "print(\"Transpose of A:\\n\", transpose_A)\n",
    "\n",
    "# Determinant of a matrix\n",
    "det_A = np.linalg.det(A)\n",
    "print(\"Determinant of A:\", det_A)\n",
    "\n",
    "# Inverse of a matrix\n",
    "inv_A = np.linalg.inv(A)\n",
    "print(\"Inverse of A:\\n\", inv_A)\n"
   ]
  },
  {
   "cell_type": "code",
   "execution_count": 69,
   "id": "ed42d617-b7f2-43db-9092-3ecbd0649bd8",
   "metadata": {},
   "outputs": [
    {
     "name": "stdout",
     "output_type": "stream",
     "text": [
      "Matrix Multiplication:\n",
      " [[19 22]\n",
      " [43 50]]\n",
      "Transpose of A:\n",
      " [[1 3]\n",
      " [2 4]]\n",
      "Determinant of A: -2.0000000000000004\n",
      "Inverse of A:\n",
      " [[-2.   1. ]\n",
      " [ 1.5 -0.5]]\n"
     ]
    }
   ],
   "source": [
    "# Matrix Multiplication\n",
    "matrix_mult = np.dot(A, B)\n",
    "print(\"Matrix Multiplication:\\n\", matrix_mult)\n",
    "\n",
    "# Transpose of a matrix\n",
    "transpose_A = A.T\n",
    "print(\"Transpose of A:\\n\", transpose_A)\n",
    "\n",
    "# Determinant of a matrix\n",
    "det_A = np.linalg.det(A)\n",
    "print(\"Determinant of A:\", det_A)\n",
    "\n",
    "# Inverse of a matrix\n",
    "inv_A = np.linalg.inv(A)\n",
    "print(\"Inverse of A:\\n\", inv_A)"
   ]
  },
  {
   "cell_type": "markdown",
   "id": "0d228b77-8dfa-4c58-9175-12c702693cac",
   "metadata": {},
   "source": [
    "### Task 2: Solving Linear Equations"
   ]
  },
  {
   "cell_type": "markdown",
   "id": "fcfebc06-92fa-46f4-8379-6e5358bb1c4b",
   "metadata": {},
   "source": [
    "**Solve a System of Linear Equations**"
   ]
  },
  {
   "cell_type": "code",
   "execution_count": 82,
   "id": "80a12b4b-8f03-4455-8264-aece7d0005f6",
   "metadata": {},
   "outputs": [
    {
     "name": "stdout",
     "output_type": "stream",
     "text": [
      "[0.28571429 4.42857143]\n"
     ]
    }
   ],
   "source": [
    "# 2x + y = 5\n",
    "# 3x - 2y = -8\n",
    "# Coefficient matrix\n",
    "A = np.array([[2, 1], [3, -2]])\n",
    "# Constant vector\n",
    "b = np.array([5, -8])\n",
    "x = np.linalg.solve(A, b)\n",
    "print(x)"
   ]
  },
  {
   "cell_type": "markdown",
   "id": "ecaeeacb-0386-4664-a471-a06855792f10",
   "metadata": {},
   "source": [
    "**Implement Matrix Factorization Methods**"
   ]
  },
  {
   "cell_type": "code",
   "execution_count": 128,
   "id": "658fb5f3-9636-49ea-8d00-787f29f48124",
   "metadata": {},
   "outputs": [
    {
     "name": "stdout",
     "output_type": "stream",
     "text": [
      "P [[0. 1.]\n",
      " [1. 0.]]\n",
      "L [[1.         0.        ]\n",
      " [0.66666667 1.        ]]\n",
      "U [[ 3.         -2.        ]\n",
      " [ 0.          2.33333333]]\n"
     ]
    }
   ],
   "source": [
    "# LU decomposition\n",
    "\n",
    "P, L, U = scipy.linalg.lu(A)\n",
    "print(\"P\",P)\n",
    "print(\"L\",L)\n",
    "print(\"U\",U)"
   ]
  },
  {
   "cell_type": "code",
   "execution_count": 95,
   "id": "0b6f3f43-e909-4414-9aa9-f6e918eef9d9",
   "metadata": {},
   "outputs": [
    {
     "name": "stdout",
     "output_type": "stream",
     "text": [
      "Q [[-0.5547002  -0.83205029]\n",
      " [-0.83205029  0.5547002 ]]\n",
      "R [[-3.60555128  1.10940039]\n",
      " [ 0.         -1.94145069]]\n"
     ]
    }
   ],
   "source": [
    "# QR decomposition\n",
    "Q, R = np.linalg.qr(A)\n",
    "print(\"Q\", Q)\n",
    "print(\"R\", R)"
   ]
  },
  {
   "cell_type": "markdown",
   "id": "58869805-a08e-4ed7-a86e-4674967f3a23",
   "metadata": {},
   "source": [
    "## Task 3: Eigenvalues and Eigenvectors"
   ]
  },
  {
   "cell_type": "markdown",
   "id": "9b4a4f67-d09c-463c-a3a4-d00aa7595eda",
   "metadata": {},
   "source": [
    "**Calculate Eigenvalues and Eigenvectors**"
   ]
  },
  {
   "cell_type": "code",
   "execution_count": 110,
   "id": "174ae3a2-6ef6-4c0f-9128-9404ff8fb4cd",
   "metadata": {},
   "outputs": [
    {
     "name": "stdout",
     "output_type": "stream",
     "text": [
      "Eigenvalues: [ 3. -1.]\n",
      "Eigenvectors: [[ 0.70710678 -0.70710678]\n",
      " [ 0.70710678  0.70710678]]\n"
     ]
    }
   ],
   "source": [
    "\n",
    "C = np.array([[1, 2], [2, 1]])\n",
    "\n",
    "eigenvalues, eigenvectors = np.linalg.eig(C)\n",
    "print(\"Eigenvalues:\", eigenvalues)\n",
    "print(\"Eigenvectors:\", eigenvectors)\n"
   ]
  },
  {
   "cell_type": "code",
   "execution_count": 107,
   "id": "5422930f-c07e-4e8a-b7ca-d9bef9846994",
   "metadata": {},
   "outputs": [
    {
     "name": "stdout",
     "output_type": "stream",
     "text": [
      "[[1. 2.]\n",
      " [2. 1.]]\n"
     ]
    }
   ],
   "source": [
    "# Verify by reconstructing the original matrix\n",
    "reconstructed_matrix = np.dot(np.dot(eigenvectors, np.diag(eigenvalues)), np.linalg.inv(eigenvectors))\n",
    "print(reconstructed_matrix)"
   ]
  },
  {
   "cell_type": "markdown",
   "id": "87b1eb26-0426-4969-b4fa-1fa20be601ca",
   "metadata": {},
   "source": [
    "## Task 4: Vector Operations"
   ]
  },
  {
   "cell_type": "markdown",
   "id": "7f4d5866-7485-4441-b501-54dcd5a3d776",
   "metadata": {},
   "source": [
    "**Perform Basic Vector Operations**"
   ]
  },
  {
   "cell_type": "code",
   "execution_count": 126,
   "id": "1b9addbe-383d-40a7-a867-aafc119afba6",
   "metadata": {},
   "outputs": [
    {
     "name": "stdout",
     "output_type": "stream",
     "text": [
      "Vector Addition: [5 7 9]\n",
      "Dot Product: 32\n",
      "Cross Product: [-3  6 -3]\n",
      "Normalized v1: [0.26726124 0.53452248 0.80178373]\n",
      "Norm of v2: 8.774964387392123\n"
     ]
    }
   ],
   "source": [
    "\n",
    "v1 = np.array([1, 2, 3])\n",
    "v2 = np.array([4, 5, 6])\n",
    "\n",
    "# Addition\n",
    "vector_addition = v1 + v2\n",
    "print(\"Vector Addition:\", vector_addition)\n",
    "\n",
    "# Dot product\n",
    "dot_product = np.dot(v1, v2)\n",
    "print(\"Dot Product:\", dot_product)\n",
    "\n",
    "# Cross product\n",
    "cross_product = np.cross(v1, v2)\n",
    "print(\"Cross Product:\", cross_product)\n",
    "\n",
    "# Normalize a vector\n",
    "norm_v1 = np.linalg.norm(v1)\n",
    "normalized_v1 = v1 / norm_v1\n",
    "print(\"Normalized v1:\", normalized_v1)\n",
    "\n",
    "# Compute vector norms\n",
    "norm_v2 = np.linalg.norm(v2)\n",
    "print(\"Norm of v2:\", norm_v2)\n",
    "\n"
   ]
  },
  {
   "cell_type": "markdown",
   "id": "c94adde8-9e23-443a-bae9-47ed84d475fc",
   "metadata": {},
   "source": [
    "## Task 5: Matrix Decomposition"
   ]
  },
  {
   "cell_type": "markdown",
   "id": "dd775422-528f-4517-b94e-77f5716222dc",
   "metadata": {},
   "source": [
    "**Implementing Principal Component Analysis (PCA) using SVD**"
   ]
  },
  {
   "cell_type": "code",
   "execution_count": 121,
   "id": "b4332d77-923c-44d3-a90d-9ba90eea0d00",
   "metadata": {},
   "outputs": [
    {
     "name": "stdout",
     "output_type": "stream",
     "text": [
      "[[-0.61962948 -0.78489445]\n",
      " [-0.78489445  0.61962948]]\n"
     ]
    }
   ],
   "source": [
    "X = np.array([[1, 2], [3, 4], [5, 6]])\n",
    "\n",
    "# Perform Singular Value Decomposition (SVD)\n",
    "U, S, VT = np.linalg.svd(X)\n",
    "principal_components = VT.T\n",
    "print(principal_components)"
   ]
  },
  {
   "cell_type": "markdown",
   "id": "0affaa4b-4b22-4676-a408-49e31a5b2e63",
   "metadata": {},
   "source": [
    "## Calculus Tasks"
   ]
  },
  {
   "cell_type": "markdown",
   "id": "543e3c68-d43b-4e7c-b940-cbeb319c1707",
   "metadata": {},
   "source": [
    "### Task 1: Numerical Differentiation"
   ]
  },
  {
   "cell_type": "markdown",
   "id": "938337b7-015d-4fe9-a51a-4ddb76c94d3a",
   "metadata": {},
   "source": [
    "**Compute Numerical Derivative of a Function**"
   ]
  },
  {
   "cell_type": "code",
   "execution_count": 134,
   "id": "e725e868-b516-4a5b-8caa-f039793d7c45",
   "metadata": {},
   "outputs": [],
   "source": [
    "def f(x):\n",
    "    return x**2 + np.sin(x)\n",
    "def forward_difference(f, x, h):\n",
    "    return (f(x + h) - f(x)) / h\n",
    "def backward_difference(f, x, h):\n",
    "    return (f(x) - f(x - h)) / h\n",
    "def central_difference(f, x, h):\n",
    "    return (f(x + h/2) - f(x - h/2)) / h"
   ]
  },
  {
   "cell_type": "markdown",
   "id": "73a30ce5-c0d3-44eb-8e2b-8fe8ff0f27b8",
   "metadata": {},
   "source": [
    "**Now testing the methods**"
   ]
  },
  {
   "cell_type": "code",
   "execution_count": 141,
   "id": "bf665740-c6a0-4395-90e6-68433c965393",
   "metadata": {},
   "outputs": [
    {
     "name": "stdout",
     "output_type": "stream",
     "text": [
      "Forward Difference: 2.5408814803600244\n",
      "Backward Difference: 2.5397229512751363\n",
      "Central Difference: 2.5403022833554445\n"
     ]
    }
   ],
   "source": [
    "x0 = 1.0\n",
    "h = 0.001\n",
    "\n",
    "derivative_forward = forward_difference(f, x0, h)\n",
    "derivative_backward = backward_difference(f, x0, h)\n",
    "derivative_central = central_difference(f, x0, h)\n",
    "\n",
    "print(\"Forward Difference:\", derivative_forward)\n",
    "print(\"Backward Difference:\", derivative_backward)\n",
    "print(\"Central Difference:\", derivative_central)"
   ]
  },
  {
   "cell_type": "markdown",
   "id": "1a33e919-88f6-47d8-8626-548a7ae704e2",
   "metadata": {},
   "source": [
    "### Task 2: Numerical Integration"
   ]
  },
  {
   "cell_type": "markdown",
   "id": "b418b208-04c6-40be-bfc1-c5d03a553b9d",
   "metadata": {},
   "source": [
    "**Compute Numerical Integral of a Function**"
   ]
  },
  {
   "cell_type": "code",
   "execution_count": 146,
   "id": "ce1d0816-ae73-4c3c-b63b-d4d6a5cc8794",
   "metadata": {},
   "outputs": [],
   "source": [
    "def g(x):\n",
    "    return np.sin(x)\n",
    "def trapezoidal_rule(f, a, b, n):\n",
    "    x = np.linspace(a, b, n+1)\n",
    "    y = f(x)\n",
    "    h = (b - a) / n\n",
    "    return h * (np.sum(y) - 0.5 * (y[0] + y[-1]))\n",
    "def simpsons_rule(f, a, b, n):\n",
    "    x = np.linspace(a, b, n+1)\n",
    "    y = f(x)\n",
    "    h = (b - a) / n\n",
    "    return h/3 * (y[0] + y[-1] + 4 * np.sum(y[1:-1:2]) + 2 * np.sum(y[2:-2:2]))"
   ]
  },
  {
   "cell_type": "markdown",
   "id": "2f057847-5205-4666-88fc-e6b122897e04",
   "metadata": {},
   "source": [
    "**Now testing the functions**"
   ]
  },
  {
   "cell_type": "code",
   "execution_count": 153,
   "id": "8685dc20-970f-4f4b-8dcd-b10fcdf5dbca",
   "metadata": {},
   "outputs": [
    {
     "name": "stdout",
     "output_type": "stream",
     "text": [
      "Trapezoidal Rule: 1.877581470074148\n",
      "Simpson's Rule: 1.8775825618908804\n"
     ]
    }
   ],
   "source": [
    "a = 0.5\n",
    "b = np.pi\n",
    "n = 1000\n",
    "\n",
    "integral_trapezoidal = trapezoidal_rule(g, a, b, n)\n",
    "integral_simpsons = simpsons_rule(g, a, b, n)\n",
    "\n",
    "print(\"Trapezoidal Rule:\", integral_trapezoidal)\n",
    "print(\"Simpson's Rule:\", integral_simpsons)"
   ]
  },
  {
   "cell_type": "markdown",
   "id": "dbc56e1a-03ac-4c7e-85f2-a801555d4cf6",
   "metadata": {},
   "source": [
    "### Task 3: Partial Derivatives"
   ]
  },
  {
   "cell_type": "markdown",
   "id": "08b415f0-cb20-4977-8c88-92b42564682f",
   "metadata": {},
   "source": [
    "**Calculate Partial Derivatives of Multivariable Functions**"
   ]
  },
  {
   "cell_type": "code",
   "execution_count": 168,
   "id": "d398d137-da6f-4f10-9e5a-1ab9f566baaa",
   "metadata": {},
   "outputs": [],
   "source": [
    "def h(x, y):\n",
    "    return x**2 + np.cos(y)\n",
    "def partial_derivative_x(f, x, y, h):\n",
    "    return (f(x + h, y) - f(x, y)) / h\n",
    "def partial_derivative_y(f, x, y, h):\n",
    "    return (f(x, y + h) - f(x, y)) / h"
   ]
  },
  {
   "cell_type": "markdown",
   "id": "5c791cd2-fe88-4ec1-95c6-aeafcc9df069",
   "metadata": {},
   "source": [
    "**Now testing the functions**"
   ]
  },
  {
   "cell_type": "code",
   "execution_count": 170,
   "id": "35802a06-7892-4cd0-9cc2-9ca044e1c8c8",
   "metadata": {},
   "outputs": [
    {
     "name": "stdout",
     "output_type": "stream",
     "text": [
      "Partial derivative with respect to x: 2.0009999999996975\n",
      "Partial derivative with respect to y: -0.479864249944395\n"
     ]
    }
   ],
   "source": [
    "x0 = 1.0\n",
    "y0 = 0.5\n",
    "h_value = 0.001\n",
    "partial_x = partial_derivative_x(h, x0, y0, h_value)\n",
    "partial_y = partial_derivative_y(h, x0, y0, h_value)\n",
    "print(\"Partial derivative with respect to x:\", partial_x)\n",
    "print(\"Partial derivative with respect to y:\", partial_y)"
   ]
  },
  {
   "cell_type": "markdown",
   "id": "f44a36db-f85d-4972-ace8-380fd5f18dc3",
   "metadata": {},
   "source": [
    "### Task 4: Optimization"
   ]
  },
  {
   "cell_type": "markdown",
   "id": "ef5f97cf-5058-4c1a-973d-cedfad143a98",
   "metadata": {},
   "source": [
    "**Solving Optimization Problems with Constraints**"
   ]
  },
  {
   "cell_type": "code",
   "execution_count": 179,
   "id": "3b6bc3dc-d043-439b-a34e-01eb2ed09766",
   "metadata": {},
   "outputs": [],
   "source": [
    "from scipy.optimize import minimize\n",
    "def objective(x):\n",
    "    return x[0]**2 + x[1]**2\n",
    "def constraint1(x):\n",
    "    return x[0] + x[1] - 1\n"
   ]
  },
  {
   "cell_type": "code",
   "execution_count": 181,
   "id": "2af0ca25-bc34-48be-849f-b1bfa5a785bd",
   "metadata": {},
   "outputs": [
    {
     "name": "stdout",
     "output_type": "stream",
     "text": [
      "Optimal solution: [0.5 0.5]\n",
      "Optimal objective value: 0.5\n"
     ]
    }
   ],
   "source": [
    "x0 = np.array([0.5, 0.5])\n",
    "# Defining bounds and constraints\n",
    "bounds = ((0, None), (0, None))\n",
    "constraints = {'type': 'eq', 'fun': constraint1}\n",
    "# Solving the optimization problem\n",
    "result = minimize(objective, x0, bounds=bounds, constraints=constraints)\n",
    "print(\"Optimal solution:\", result.x)\n",
    "print(\"Optimal objective value:\", result.fun)"
   ]
  },
  {
   "cell_type": "code",
   "execution_count": null,
   "id": "4ae06eb8-75e3-4abd-826a-3d5c8dd5c799",
   "metadata": {},
   "outputs": [],
   "source": []
  }
 ],
 "metadata": {
  "kernelspec": {
   "display_name": "Python 3 (ipykernel)",
   "language": "python",
   "name": "python3"
  },
  "language_info": {
   "codemirror_mode": {
    "name": "ipython",
    "version": 3
   },
   "file_extension": ".py",
   "mimetype": "text/x-python",
   "name": "python",
   "nbconvert_exporter": "python",
   "pygments_lexer": "ipython3",
   "version": "3.12.4"
  }
 },
 "nbformat": 4,
 "nbformat_minor": 5
}
