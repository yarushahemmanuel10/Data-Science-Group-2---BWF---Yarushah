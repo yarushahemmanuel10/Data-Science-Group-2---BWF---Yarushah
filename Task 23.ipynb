{
 "cells": [
  {
   "cell_type": "code",
   "execution_count": 4,
   "id": "df132f35-4936-4bb0-ae13-c6c2fb90f158",
   "metadata": {
    "editable": true,
    "slideshow": {
     "slide_type": ""
    },
    "tags": []
   },
   "outputs": [],
   "source": [
    "import numpy as np\n",
    "import matplotlib.pyplot as plt\n"
   ]
  },
  {
   "cell_type": "markdown",
   "id": "c263073d-50db-4d77-89dd-8ee4754c0b0a",
   "metadata": {
    "editable": true,
    "slideshow": {
     "slide_type": ""
    },
    "tags": []
   },
   "source": [
    "**Initializing Parameters:** Starting with random weights and bias."
   ]
  },
  {
   "cell_type": "code",
   "execution_count": 5,
   "id": "2c320af8-d40a-4141-af26-40396a5eb759",
   "metadata": {
    "editable": true,
    "slideshow": {
     "slide_type": ""
    },
    "tags": []
   },
   "outputs": [],
   "source": [
    "def initialize_parameters(n_features):\n",
    "    w = np.zeros(n_features)\n",
    "    b = 0\n",
    "    return w, b"
   ]
  },
  {
   "cell_type": "markdown",
   "id": "bf4d50b2-82b7-48a6-9470-5e9dc8209af0",
   "metadata": {
    "editable": true,
    "slideshow": {
     "slide_type": ""
    },
    "tags": []
   },
   "source": [
    "**Hypothesis Function:** Defining the hypothesis function $$y = wx + b$$"
   ]
  },
  {
   "cell_type": "code",
   "execution_count": 6,
   "id": "d2d51706-9aa5-47c1-83a6-f548fa6cb548",
   "metadata": {
    "editable": true,
    "slideshow": {
     "slide_type": ""
    },
    "tags": []
   },
   "outputs": [],
   "source": [
    "def predict(X, w, b):\n",
    "    return np.dot(X, w) + b"
   ]
  },
  {
   "cell_type": "markdown",
   "id": "20b3d7dc-70f2-487c-93e6-3af0284f70a7",
   "metadata": {
    "editable": true,
    "slideshow": {
     "slide_type": ""
    },
    "tags": []
   },
   "source": [
    "**Loss Function:** Use Mean Squared Error (MSE) to measure the error."
   ]
  },
  {
   "cell_type": "code",
   "execution_count": 7,
   "id": "32f4a1b4-bd0a-42a2-8a60-3d9f630a1281",
   "metadata": {
    "editable": true,
    "slideshow": {
     "slide_type": ""
    },
    "tags": []
   },
   "outputs": [],
   "source": [
    "def compute_loss(y_true, y_pred):\n",
    "    m = y_true.shape[0]\n",
    "    loss = (1/(2*m)) * np.sum((y_pred - y_true)**2)\n",
    "    return loss"
   ]
  },
  {
   "cell_type": "markdown",
   "id": "b49b0179-f364-41b3-b4b9-1e0bc3327b28",
   "metadata": {
    "editable": true,
    "slideshow": {
     "slide_type": ""
    },
    "tags": []
   },
   "source": [
    "**Gradient Descent:** Update the weights and bias iteratively to minimize the loss."
   ]
  },
  {
   "cell_type": "code",
   "execution_count": 20,
   "id": "35c41e84-104d-45c0-a644-dfe7fb694c82",
   "metadata": {
    "editable": true,
    "slideshow": {
     "slide_type": ""
    },
    "tags": []
   },
   "outputs": [],
   "source": [
    "def gradient_descent(X, y, w, b, learning_rate, num_iterations):\n",
    "    m = X.shape[0]\n",
    "    loss_history = []\n",
    "    \n",
    "    for i in range(num_iterations):\n",
    "        y_pred = predict(X, w, b)\n",
    "        dw = (1/m) * np.dot(X.T, (y_pred - y))\n",
    "        db = (1/m) * np.sum(y_pred - y)\n",
    "        \n",
    "        #Updating weights and bias\n",
    "        w -= learning_rate * dw\n",
    "        b -= learning_rate * db\n",
    "        \n",
    "        #Computing and storing loss\n",
    "        loss = compute_loss(y, y_pred)\n",
    "        loss_history.append(loss)\n",
    "        \n",
    "        if i % 100 == 0:\n",
    "            print(\"Iterations: \", i, \"Loss:\" , loss)\n",
    "    \n",
    "    return w, b, loss_history"
   ]
  },
  {
   "cell_type": "markdown",
   "id": "a976fcfc-38d7-4374-8810-b8b1a0cfc14e",
   "metadata": {
    "editable": true,
    "slideshow": {
     "slide_type": ""
    },
    "tags": []
   },
   "source": [
    "#### Generating some random data"
   ]
  },
  {
   "cell_type": "code",
   "execution_count": 9,
   "id": "33689082-720c-4651-8e30-747c6cfb2c01",
   "metadata": {
    "editable": true,
    "slideshow": {
     "slide_type": ""
    },
    "tags": []
   },
   "outputs": [],
   "source": [
    "np.random.seed(42)\n",
    "X = 2 * np.random.rand(100, 1)\n",
    "y = 4 + 3 * X + np.random.randn(100, 1)\n",
    "y = y.reshape(-1)"
   ]
  },
  {
   "cell_type": "markdown",
   "id": "7b3e4ccb-36ba-4782-a09c-d2a511696172",
   "metadata": {
    "editable": true,
    "slideshow": {
     "slide_type": ""
    },
    "tags": []
   },
   "source": [
    "#### Initializing parameters"
   ]
  },
  {
   "cell_type": "code",
   "execution_count": 10,
   "id": "1b1525d7-0a0b-4294-8bc9-7845ca191ff2",
   "metadata": {
    "editable": true,
    "slideshow": {
     "slide_type": ""
    },
    "tags": []
   },
   "outputs": [],
   "source": [
    "n_features = X.shape[1]\n",
    "w, b = initialize_parameters(n_features)"
   ]
  },
  {
   "cell_type": "markdown",
   "id": "852a3fa7-9a1a-4ad7-914c-9d696a360b4b",
   "metadata": {
    "editable": true,
    "slideshow": {
     "slide_type": ""
    },
    "tags": []
   },
   "source": [
    "#### Setting hyperparameters and performing gradient descent."
   ]
  },
  {
   "cell_type": "code",
   "execution_count": 26,
   "id": "97ee1bc1-652d-4e0f-92a7-8c544d625022",
   "metadata": {
    "editable": true,
    "slideshow": {
     "slide_type": ""
    },
    "tags": []
   },
   "outputs": [
    {
     "name": "stdout",
     "output_type": "stream",
     "text": [
      "Iterations:  0 Loss: 0.4032922882522204\n",
      "Iterations:  100 Loss: 0.40329228644668114\n",
      "Iterations:  200 Loss: 0.4032922851611821\n",
      "Iterations:  300 Loss: 0.4032922842459385\n",
      "Iterations:  400 Loss: 0.4032922835943078\n",
      "Iterations:  500 Loss: 0.40329228313036297\n",
      "Iterations:  600 Loss: 0.40329228280004553\n",
      "Iterations:  700 Loss: 0.403292282564868\n",
      "Iterations:  800 Loss: 0.40329228239742726\n",
      "Iterations:  900 Loss: 0.4032922822782136\n"
     ]
    }
   ],
   "source": [
    "\n",
    "learning_rate = 0.01\n",
    "num_iterations = 1000\n",
    "\n",
    "\n",
    "w, b, loss_history = gradient_descent(X, y, w, b, learning_rate, num_iterations)"
   ]
  },
  {
   "cell_type": "markdown",
   "id": "57fe5790-9c18-4195-bbe7-53572e13f868",
   "metadata": {
    "editable": true,
    "slideshow": {
     "slide_type": ""
    },
    "tags": []
   },
   "source": [
    "#### Scatter Plot and Regression Line"
   ]
  },
  {
   "cell_type": "code",
   "execution_count": 12,
   "id": "7413a483-f36e-4bad-9788-8b8cf06b935c",
   "metadata": {
    "editable": true,
    "slideshow": {
     "slide_type": ""
    },
    "tags": []
   },
   "outputs": [
    {
     "data": {
      "image/png": "[encoded data removed]",
      "text/plain": [
       "<Figure size 1000x600 with 1 Axes>"
      ]
     },
     "metadata": {},
     "output_type": "display_data"
    }
   ],
   "source": [
    "plt.figure(figsize=(10, 6))\n",
    "plt.scatter(X, y, color='blue', label='Data Points')\n",
    "X_range = np.linspace(X.min(), X.max(), 100)\n",
    "y_pred_range = predict(X_range.reshape(-1, 1), w, b)\n",
    "plt.plot(X_range, y_pred_range, color='red', label='Regression Line')\n",
    "plt.xlabel('X')\n",
    "plt.ylabel('y')\n",
    "plt.title('Linear Regression')\n",
    "plt.legend()\n",
    "plt.show()"
   ]
  },
  {
   "cell_type": "markdown",
   "id": "01b0b140-5a7a-4187-8434-8988effe4ab0",
   "metadata": {
    "editable": true,
    "slideshow": {
     "slide_type": ""
    },
    "tags": []
   },
   "source": [
    "#### Plotting the loss over iterations"
   ]
  },
  {
   "cell_type": "code",
   "execution_count": 13,
   "id": "3cf0d308-8299-405a-a17b-eefa16fbb3ad",
   "metadata": {
    "editable": true,
    "slideshow": {
     "slide_type": ""
    },
    "tags": []
   },
   "outputs": [
    {
     "data": {
      "image/png": "[encoded data removed]",
      "text/plain": [
       "<Figure size 1000x600 with 1 Axes>"
      ]
     },
     "metadata": {},
     "output_type": "display_data"
    }
   ],
   "source": [
    "plt.figure(figsize=(10, 6))\n",
    "plt.plot(range(num_iterations), loss_history, color='green')\n",
    "plt.xlabel('Iterations')\n",
    "plt.ylabel('Loss')\n",
    "plt.title('Loss Over Iterations')\n",
    "plt.show()\n"
   ]
  },
  {
   "cell_type": "code",
   "execution_count": null,
   "id": "69f4437f-d84c-4415-a6fb-bd7651115b95",
   "metadata": {
    "editable": true,
    "slideshow": {
     "slide_type": ""
    },
    "tags": []
   },
   "outputs": [],
   "source": []
  }
 ],
 "metadata": {
  "kernelspec": {
   "display_name": "anaconda-2024.02-py310",
   "language": "python",
   "name": "conda-env-anaconda-2024.02-py310-py"
  },
  "language_info": {
   "codemirror_mode": {
    "name": "ipython",
    "version": 3
   },
   "file_extension": ".py",
   "mimetype": "text/x-python",
   "name": "python",
   "nbconvert_exporter": "python",
   "pygments_lexer": "ipython3",
   "version": "3.10.14"
  }
 },
 "nbformat": 4,
 "nbformat_minor": 5
}
