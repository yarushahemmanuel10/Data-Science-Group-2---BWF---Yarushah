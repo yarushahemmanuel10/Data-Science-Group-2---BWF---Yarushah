{
 "cells": [
  {
   "cell_type": "code",
   "execution_count": 10,
   "id": "bb168fc2-cc28-4f30-bb51-61324432f161",
   "metadata": {},
   "outputs": [
    {
     "name": "stdout",
     "output_type": "stream",
     "text": [
      "*  \n",
      "* *  \n",
      "* * *  \n",
      "* * * *  \n",
      "* * * * *  \n"
     ]
    }
   ],
   "source": [
    "for n in range(5):\n",
    "    for j in range(n+1):\n",
    "        print(\"*\", end=\" \")\n",
    "    print(\" \")\n",
    "\n"
   ]
  },
  {
   "cell_type": "code",
   "execution_count": 14,
   "id": "5505cb23-d6d5-4fb8-bf55-97bfa604a886",
   "metadata": {},
   "outputs": [
    {
     "name": "stdout",
     "output_type": "stream",
     "text": [
      "* * * * *  \n",
      "* * * *  \n",
      "* * *  \n",
      "* *  \n",
      "*  \n"
     ]
    }
   ],
   "source": [
    "for n in range(5,0,-1):\n",
    "    for j in range(n):\n",
    "        print('*', end=\" \")\n",
    "    print(\" \")"
   ]
  },
  {
   "cell_type": "code",
   "execution_count": 18,
   "id": "318d4742-21f6-4e79-8f10-acbf1674aaef",
   "metadata": {},
   "outputs": [
    {
     "name": "stdout",
     "output_type": "stream",
     "text": [
      "0 \n",
      "1 1 \n",
      "2 2 2 \n",
      "3 3 3 3 \n",
      "4 4 4 4 4 \n",
      "5 5 5 5 5 5 \n"
     ]
    }
   ],
   "source": [
    "for n in range(6):\n",
    "    for j in range(n+1):\n",
    "        print(n, end=\" \")\n",
    "    print()"
   ]
  },
  {
   "cell_type": "code",
   "execution_count": 22,
   "id": "329541fa-b58f-481a-9827-ac62fa163a15",
   "metadata": {},
   "outputs": [
    {
     "name": "stdout",
     "output_type": "stream",
     "text": [
      "5 5 5 5 5 \n",
      "4 4 4 4 \n",
      "3 3 3 \n",
      "2 2 \n",
      "1 \n"
     ]
    }
   ],
   "source": [
    "for n in range(5,0,-1):\n",
    "    for j in range(n):\n",
    "        print(n, end=\" \")\n",
    "    print()"
   ]
  },
  {
   "cell_type": "code",
   "execution_count": 27,
   "id": "ae2327bb-82b1-4d77-81ca-513febddc27c",
   "metadata": {},
   "outputs": [
    {
     "name": "stdout",
     "output_type": "stream",
     "text": [
      "A  \n",
      "B B  \n",
      "C C C  \n",
      "D D D D  \n",
      "E E E E E  \n",
      "F F F F F F  \n"
     ]
    }
   ],
   "source": [
    "ascii_value=65\n",
    "for n in range(6):\n",
    "    for j in range(n+1):\n",
    "        alphabets= chr(ascii_value)\n",
    "        print(alphabets, end=\" \")\n",
    "    ascii_value+=1\n",
    "    print(\" \")\n",
    "    "
   ]
  },
  {
   "cell_type": "code",
   "execution_count": 29,
   "id": "fc824086-e4b5-4fe4-bf7a-1266b6629530",
   "metadata": {},
   "outputs": [
    {
     "name": "stdout",
     "output_type": "stream",
     "text": [
      "A A A A A A  \n",
      "B B B B B  \n",
      "C C C C  \n",
      "D D D  \n",
      "E E  \n",
      "F  \n"
     ]
    }
   ],
   "source": [
    "ascii_value=65\n",
    "for n in range(6,0,-1):\n",
    "    for j in range(n):\n",
    "        alphabets= chr(ascii_value)\n",
    "        print(alphabets, end=\" \")\n",
    "    ascii_value+=1\n",
    "    print(\" \")\n",
    "    "
   ]
  },
  {
   "cell_type": "code",
   "execution_count": 42,
   "id": "31fe8c98-f127-4da7-8d5e-dd7dd911290d",
   "metadata": {},
   "outputs": [
    {
     "name": "stdin",
     "output_type": "stream",
     "text": [
      "Guess the number!!!. Guess the number I chose between 0 and 100. 60\n"
     ]
    },
    {
     "name": "stdout",
     "output_type": "stream",
     "text": [
      "The number is too low. Guess a higher one.\n"
     ]
    },
    {
     "name": "stdin",
     "output_type": "stream",
     "text": [
      "Guess the number!!!. Guess the number I chose between 0 and 100. 70\n"
     ]
    },
    {
     "name": "stdout",
     "output_type": "stream",
     "text": [
      "The number is too high. Guess a lower one.\n"
     ]
    },
    {
     "name": "stdin",
     "output_type": "stream",
     "text": [
      "Guess the number!!!. Guess the number I chose between 0 and 100. 75\n"
     ]
    },
    {
     "name": "stdout",
     "output_type": "stream",
     "text": [
      "The number is too high. Guess a lower one.\n"
     ]
    },
    {
     "name": "stdin",
     "output_type": "stream",
     "text": [
      "Guess the number!!!. Guess the number I chose between 0 and 100. 74\n"
     ]
    },
    {
     "name": "stdout",
     "output_type": "stream",
     "text": [
      "The number is too high. Guess a lower one.\n"
     ]
    },
    {
     "name": "stdin",
     "output_type": "stream",
     "text": [
      "Guess the number!!!. Guess the number I chose between 0 and 100. 73\n"
     ]
    },
    {
     "name": "stdout",
     "output_type": "stream",
     "text": [
      "The number is too high. Guess a lower one.\n"
     ]
    },
    {
     "name": "stdin",
     "output_type": "stream",
     "text": [
      "Guess the number!!!. Guess the number I chose between 0 and 100. 72\n"
     ]
    },
    {
     "name": "stdout",
     "output_type": "stream",
     "text": [
      "The number is too high. Guess a lower one.\n"
     ]
    },
    {
     "name": "stdin",
     "output_type": "stream",
     "text": [
      "Guess the number!!!. Guess the number I chose between 0 and 100. 71\n"
     ]
    },
    {
     "name": "stdout",
     "output_type": "stream",
     "text": [
      "The number is too high. Guess a lower one.\n"
     ]
    },
    {
     "name": "stdin",
     "output_type": "stream",
     "text": [
      "Guess the number!!!. Guess the number I chose between 0 and 100. 70\n"
     ]
    },
    {
     "name": "stdout",
     "output_type": "stream",
     "text": [
      "The number is too high. Guess a lower one.\n"
     ]
    },
    {
     "name": "stdin",
     "output_type": "stream",
     "text": [
      "Guess the number!!!. Guess the number I chose between 0 and 100. 60\n"
     ]
    },
    {
     "name": "stdout",
     "output_type": "stream",
     "text": [
      "The number is too low. Guess a higher one.\n"
     ]
    },
    {
     "name": "stdin",
     "output_type": "stream",
     "text": [
      "Guess the number!!!. Guess the number I chose between 0 and 100. 65\n"
     ]
    },
    {
     "name": "stdout",
     "output_type": "stream",
     "text": [
      "The number is too high. Guess a lower one.\n"
     ]
    },
    {
     "name": "stdin",
     "output_type": "stream",
     "text": [
      "Guess the number!!!. Guess the number I chose between 0 and 100. 64\n"
     ]
    },
    {
     "name": "stdout",
     "output_type": "stream",
     "text": [
      "Congrats you won!!! Your number of attempts are:  11\n"
     ]
    }
   ],
   "source": [
    "#Number guessing game, computer selects a number from 0 to 100\n",
    "\n",
    "import random \n",
    "\n",
    "def number_guessing():\n",
    "    random_num=random.randint(0,100)\n",
    "    num_of_attempts=0\n",
    "    guessed= False\n",
    "    while not guessed:\n",
    "        guess=int(input(\"Guess the number!!!. Guess the number I chose between 0 and 100.\"))\n",
    "        num_of_attempts+=1\n",
    "        if guess<random_num:\n",
    "            print(\"The number is too low. Guess a higher one.\")\n",
    "        elif guess>random_num:\n",
    "            print(\"The number is too high. Guess a lower one.\")\n",
    "        else:\n",
    "            guessed = True\n",
    "            print(\"Congrats you won!!!\", \"Your number of attempts are: \", num_of_attempts)\n",
    "number_guessing()"
   ]
  },
  {
   "cell_type": "code",
   "execution_count": null,
   "id": "2d3c794b-29be-4faf-b7f5-8ddf7d8f3aca",
   "metadata": {},
   "outputs": [],
   "source": []
  }
 ],
 "metadata": {
  "kernelspec": {
   "display_name": "Python 3 (ipykernel)",
   "language": "python",
   "name": "python3"
  },
  "language_info": {
   "codemirror_mode": {
    "name": "ipython",
    "version": 3
   },
   "file_extension": ".py",
   "mimetype": "text/x-python",
   "name": "python",
   "nbconvert_exporter": "python",
   "pygments_lexer": "ipython3",
   "version": "3.11.7"
  }
 },
 "nbformat": 4,
 "nbformat_minor": 5
}
