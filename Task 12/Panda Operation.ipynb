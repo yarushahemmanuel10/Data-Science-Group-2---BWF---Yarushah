{
 "cells": [
  {
   "cell_type": "markdown",
   "id": "7cdcd2f0-eed1-474e-918d-fc2d043f5f32",
   "metadata": {},
   "source": [
    "# What is Pandas?\n",
    "Pandas is a Python library used for working with data sets.\n",
    "\r\n",
    "It has functions for analyzing, cleaning, exploring, and manipulating dat\n",
    "# Why Use Pandas?\n",
    "Pandas allows us to analyze big data and make conclusions based on statistical theories.\n",
    "\r\n",
    "Pandas can clean messy data sets, and make them readable and relevant.a."
   ]
  },
  {
   "cell_type": "code",
   "execution_count": 7,
   "id": "99a9e0cb-e4a8-4ea1-bc98-6d5c78357efa",
   "metadata": {},
   "outputs": [
    {
     "name": "stdout",
     "output_type": "stream",
     "text": [
      "    cars  Numbers\n",
      "0    BWM        1\n",
      "1   Ford        2\n",
      "2  Volvo        4\n"
     ]
    }
   ],
   "source": [
    "import pandas as pd\n",
    "my_dataset= {'cars':[\"BWM\",\"Ford\",\"Volvo\"]\n",
    "            , \"Numbers\": [1,2,4]}\n",
    "\n",
    "myvar= pd.DataFrame(my_dataset)\n",
    "print(myvar)"
   ]
  },
  {
   "cell_type": "markdown",
   "id": "20ab7202-24d3-47b6-8e68-cc189ff515c8",
   "metadata": {},
   "source": [
    "# What is a Series?\n",
    "A Pandas Series is like a column in a table.\n",
    "It is a one-dimensional array holding data of any type."
   ]
  },
  {
   "cell_type": "code",
   "execution_count": 3,
   "id": "552c7427-971e-4993-aaf8-27d948697f51",
   "metadata": {},
   "outputs": [
    {
     "name": "stdout",
     "output_type": "stream",
     "text": [
      "0    1\n",
      "1    2\n",
      "2    3\n",
      "dtype: int64\n"
     ]
    }
   ],
   "source": [
    "a=[1,2,3]\n",
    "myvar=pd.Series(a)\n",
    "print(myvar)"
   ]
  },
  {
   "cell_type": "markdown",
   "id": "6f469436-2bc9-4edf-965d-3e8c5bdd09d5",
   "metadata": {},
   "source": [
    "# Labels\n",
    "If nothing else is specified, the values are labeled with their index number. First value has index 0, second value has index 1 etc.\n",
    "\n",
    "This label can be used to access a specified value."
   ]
  },
  {
   "cell_type": "code",
   "execution_count": 4,
   "id": "59097350-d1d0-409a-88ea-43c30bbc3959",
   "metadata": {},
   "outputs": [
    {
     "name": "stdout",
     "output_type": "stream",
     "text": [
      "1\n"
     ]
    }
   ],
   "source": [
    "print(myvar[0])"
   ]
  },
  {
   "cell_type": "code",
   "execution_count": 10,
   "id": "1ba8d7a2-f2aa-424b-b315-55b561e4ce3f",
   "metadata": {},
   "outputs": [
    {
     "name": "stdout",
     "output_type": "stream",
     "text": [
      "x    1\n",
      "y    7\n",
      "z    2\n",
      "dtype: int64\n"
     ]
    }
   ],
   "source": [
    "import pandas as pd \n",
    "a=[1,7,2]\n",
    "myvar= pd.Series(a,index=['x','y','z'])\n",
    "print(myvar)"
   ]
  },
  {
   "cell_type": "code",
   "execution_count": 11,
   "id": "fde8d923-d081-4096-8422-4979915491af",
   "metadata": {},
   "outputs": [
    {
     "name": "stdout",
     "output_type": "stream",
     "text": [
      "7\n"
     ]
    }
   ],
   "source": [
    "print(myvar[\"y\"])"
   ]
  },
  {
   "cell_type": "markdown",
   "id": "51b2ca54-2ff8-4e6e-90d2-9dd5296961e4",
   "metadata": {},
   "source": [
    "## Key/Value Objects as Series"
   ]
  },
  {
   "cell_type": "code",
   "execution_count": 15,
   "id": "c764dc78-65e5-47ef-9b42-abd07095846f",
   "metadata": {},
   "outputs": [
    {
     "name": "stdout",
     "output_type": "stream",
     "text": [
      "day1    420\n",
      "day2    380\n",
      "day3    390\n",
      "dtype: int64\n"
     ]
    }
   ],
   "source": [
    "import pandas as pd\n",
    "\n",
    "calories = {\"day1\": 420, \"day2\": 380, \"day3\": 390}\n",
    "\n",
    "myvar = pd.Series(calories)\n",
    "\n",
    "print(myvar)"
   ]
  },
  {
   "cell_type": "code",
   "execution_count": 13,
   "id": "abc0989d-5ff5-4245-bad8-d7621ffbb200",
   "metadata": {},
   "outputs": [
    {
     "name": "stdout",
     "output_type": "stream",
     "text": [
      "day1    420\n",
      "day2    380\n",
      "dtype: int64\n"
     ]
    }
   ],
   "source": [
    "import pandas as pd\n",
    "\n",
    "calories = {\"day1\": 420, \"day2\": 380, \"day3\": 390}\n",
    "\n",
    "myvar = pd.Series(calories, index = [\"day1\", \"day2\"])\n",
    "\n",
    "print(myvar)"
   ]
  },
  {
   "cell_type": "markdown",
   "id": "2189cc70-c190-4ff5-ad8c-8cc2b239578d",
   "metadata": {},
   "source": [
    "# DataFrame\n",
    "## What is a DataFrame?\r\n",
    "A Pandas DataFrame is a 2 dimensional data structure, like a 2 dimensional array, or a table with rows and columns."
   ]
  },
  {
   "cell_type": "code",
   "execution_count": 17,
   "id": "429b8858-1555-45a9-8b66-10c12b694895",
   "metadata": {},
   "outputs": [
    {
     "name": "stdout",
     "output_type": "stream",
     "text": [
      "calories    [420, 380, 390]\n",
      "duration       [50, 40, 45]\n",
      "dtype: object\n"
     ]
    }
   ],
   "source": [
    "import pandas as pd\n",
    "\n",
    "data = {\n",
    "  \"calories\": [420, 380, 390],\n",
    "  \"duration\": [50, 40, 45]\n",
    "}\n",
    "\n",
    "myvar = pd.Series(data)\n",
    "\n",
    "print(myvar)"
   ]
  },
  {
   "cell_type": "code",
   "execution_count": 22,
   "id": "bec9ae99-eb54-4eeb-b4e4-415282e2babf",
   "metadata": {},
   "outputs": [
    {
     "name": "stdout",
     "output_type": "stream",
     "text": [
      "   calories  duration\n",
      "0       420        50\n",
      "1       380        40\n",
      "2       390        45\n"
     ]
    }
   ],
   "source": [
    "import pandas as pd\n",
    "\n",
    "data = {\n",
    "  \"calories\": [420, 380, 390],\n",
    "  \"duration\": [50, 40, 45]\n",
    "}\n",
    "\n",
    "myvar = pd.DataFrame(data)\n",
    "\n",
    "print(myvar)"
   ]
  },
  {
   "cell_type": "code",
   "execution_count": 23,
   "id": "7fafd891-a505-4e35-a125-77c3d5892f2c",
   "metadata": {},
   "outputs": [
    {
     "name": "stdout",
     "output_type": "stream",
     "text": [
      "calories    420\n",
      "duration     50\n",
      "Name: 0, dtype: int64\n"
     ]
    }
   ],
   "source": [
    "print(myvar.loc[0])"
   ]
  },
  {
   "cell_type": "code",
   "execution_count": 27,
   "id": "04d5301b-14cf-43a3-b85f-738a34a4135d",
   "metadata": {},
   "outputs": [
    {
     "name": "stdout",
     "output_type": "stream",
     "text": [
      "   calories  duration\n",
      "0       420        50\n",
      "1       380        40\n"
     ]
    }
   ],
   "source": [
    "print(myvar.loc[[0,1,]])"
   ]
  },
  {
   "cell_type": "code",
   "execution_count": 28,
   "id": "d87266bb-e886-4a82-8ae7-da8b31279a90",
   "metadata": {},
   "outputs": [
    {
     "name": "stdout",
     "output_type": "stream",
     "text": [
      "      calories  duration\n",
      "day1       420        50\n",
      "day2       380        40\n",
      "day3       390        45\n"
     ]
    }
   ],
   "source": [
    "import pandas as pd\n",
    "\n",
    "data = {\n",
    "  \"calories\": [420, 380, 390],\n",
    "  \"duration\": [50, 40, 45]\n",
    "}\n",
    "\n",
    "df = pd.DataFrame(data, index = [\"day1\", \"day2\", \"day3\"])\n",
    "\n",
    "print(df) "
   ]
  },
  {
   "cell_type": "code",
   "execution_count": 29,
   "id": "c6c746f6-4a45-453c-9a3e-af94b9b788e4",
   "metadata": {},
   "outputs": [
    {
     "name": "stdout",
     "output_type": "stream",
     "text": [
      "calories    420\n",
      "duration     50\n",
      "Name: day1, dtype: int64\n"
     ]
    }
   ],
   "source": [
    "print(df.loc['day1'])"
   ]
  },
  {
   "cell_type": "code",
   "execution_count": 31,
   "id": "1b83fbe0-eee1-49a0-85f8-97fdbfb1f02d",
   "metadata": {},
   "outputs": [
    {
     "name": "stdout",
     "output_type": "stream",
     "text": [
      "calories    380\n",
      "duration     40\n",
      "Name: day2, dtype: int64\n"
     ]
    }
   ],
   "source": [
    "print(df.loc['day2'])"
   ]
  },
  {
   "cell_type": "code",
   "execution_count": 33,
   "id": "f85d1971-7611-49bc-8bd4-4e5be7c2c0e8",
   "metadata": {},
   "outputs": [
    {
     "name": "stdout",
     "output_type": "stream",
     "text": [
      "\n",
      "DataFrame from NumPy array with custom index and columns:\n",
      "       A   B\n",
      "Row1  10  20\n",
      "Row2  30  40\n",
      "Row3  50  60\n"
     ]
    }
   ],
   "source": [
    "# NumPy array\n",
    "import numpy as np\n",
    "np_data = np.array([[10, 20], [30, 40], [50, 60]])\n",
    "\n",
    "df_from_np = pd.DataFrame(np_data, columns=['A', 'B'], index=['Row1', 'Row2', 'Row3'])\n",
    "print(\"\\nDataFrame from NumPy array with custom index and columns:\")\n",
    "print(df_from_np)"
   ]
  },
  {
   "cell_type": "markdown",
   "id": "eceb5eb3-8cc2-48e0-b5eb-1c0755df6e26",
   "metadata": {},
   "source": [
    "## Read CSV Files\n",
    "A simple way to store big data sets is to use CSV files (comma separated files).\n",
    "\n",
    "CSV files contains plain text and is a well know format that can be read by everyone including Pandas."
   ]
  },
  {
   "cell_type": "code",
   "execution_count": 37,
   "id": "1b297213-83e1-4917-9c0d-c8939bdfa1c6",
   "metadata": {},
   "outputs": [
    {
     "name": "stdout",
     "output_type": "stream",
     "text": [
      "     Duration  Pulse  Maxpulse  Calories\n",
      "0          60    110       130     409.1\n",
      "1          60    117       145     479.0\n",
      "2          60    103       135     340.0\n",
      "3          45    109       175     282.4\n",
      "4          45    117       148     406.0\n",
      "5          60    102       127     300.0\n",
      "6          60    110       136     374.0\n",
      "7          45    104       134     253.3\n",
      "8          30    109       133     195.1\n",
      "9          60     98       124     269.0\n",
      "10         60    103       147     329.3\n",
      "11         60    100       120     250.7\n",
      "12         60    106       128     345.3\n",
      "13         60    104       132     379.3\n",
      "14         60     98       123     275.0\n",
      "15         60     98       120     215.2\n",
      "16         60    100       120     300.0\n",
      "17         45     90       112       NaN\n",
      "18         60    103       123     323.0\n",
      "19         45     97       125     243.0\n",
      "20         60    108       131     364.2\n",
      "21         45    100       119     282.0\n",
      "22         60    130       101     300.0\n",
      "23         45    105       132     246.0\n",
      "24         60    102       126     334.5\n",
      "25         60    100       120     250.0\n",
      "26         60     92       118     241.0\n",
      "27         60    103       132       NaN\n",
      "28         60    100       132     280.0\n",
      "29         60    102       129     380.3\n",
      "30         60     92       115     243.0\n",
      "31         45     90       112     180.1\n",
      "32         60    101       124     299.0\n",
      "33         60     93       113     223.0\n",
      "34         60    107       136     361.0\n",
      "35         60    114       140     415.0\n",
      "36         60    102       127     300.0\n",
      "37         60    100       120     300.0\n",
      "38         60    100       120     300.0\n",
      "39         45    104       129     266.0\n",
      "40         45     90       112     180.1\n",
      "41         60     98       126     286.0\n",
      "42         60    100       122     329.4\n",
      "43         60    111       138     400.0\n",
      "44         60    111       131     397.0\n",
      "45         60     99       119     273.0\n",
      "46         60    109       153     387.6\n",
      "47         45    111       136     300.0\n",
      "48         45    108       129     298.0\n",
      "49         60    111       139     397.6\n",
      "50         60    107       136     380.2\n",
      "51         80    123       146     643.1\n",
      "52         60    106       130     263.0\n",
      "53         60    118       151     486.0\n",
      "54         30    136       175     238.0\n",
      "55         60    121       146     450.7\n",
      "56         60    118       121     413.0\n",
      "57         45    115       144     305.0\n",
      "58         20    153       172     226.4\n",
      "59         45    123       152     321.0\n",
      "60        210    108       160    1376.0\n",
      "61        160    110       137    1034.4\n",
      "62        160    109       135     853.0\n",
      "63         45    118       141     341.0\n",
      "64         20    110       130     131.4\n",
      "65        180     90       130     800.4\n",
      "66        150    105       135     873.4\n",
      "67        150    107       130     816.0\n",
      "68         20    106       136     110.4\n",
      "69        300    108       143    1500.2\n",
      "70        150     97       129    1115.0\n",
      "71         60    109       153     387.6\n",
      "72         90    100       127     700.0\n",
      "73        150     97       127     953.2\n",
      "74         45    114       146     304.0\n",
      "75         90     98       125     563.2\n",
      "76         45    105       134     251.0\n",
      "77         45    110       141     300.0\n",
      "78        120    100       130     500.4\n",
      "79        270    100       131    1729.0\n",
      "80         30    159       182     319.2\n",
      "81         45    149       169     344.0\n",
      "82         30    103       139     151.1\n",
      "83        120    100       130     500.0\n",
      "84         45    100       120     225.3\n",
      "85         30    151       170     300.0\n",
      "86         45    102       136     234.0\n",
      "87        120    100       157    1000.1\n",
      "88         45    129       103     242.0\n",
      "89         20     83       107      50.3\n",
      "90        180    101       127     600.1\n",
      "91         45    107       137       NaN\n",
      "92         30     90       107     105.3\n",
      "93         15     80       100      50.5\n",
      "94         20    150       171     127.4\n",
      "95         20    151       168     229.4\n",
      "96         30     95       128     128.2\n",
      "97         25    152       168     244.2\n",
      "98         30    109       131     188.2\n",
      "99         90     93       124     604.1\n",
      "100        20     95       112      77.7\n",
      "101        90     90       110     500.0\n",
      "102        90     90       100     500.0\n",
      "103        90     90       100     500.4\n",
      "104        30     92       108      92.7\n",
      "105        30     93       128     124.0\n",
      "106       180     90       120     800.3\n",
      "107        30     90       120      86.2\n",
      "108        90     90       120     500.3\n",
      "109       210    137       184    1860.4\n",
      "110        60    102       124     325.2\n",
      "111        45    107       124     275.0\n",
      "112        15    124       139     124.2\n",
      "113        45    100       120     225.3\n",
      "114        60    108       131     367.6\n",
      "115        60    108       151     351.7\n",
      "116        60    116       141     443.0\n",
      "117        60     97       122     277.4\n",
      "118        60    105       125       NaN\n",
      "119        60    103       124     332.7\n",
      "120        30    112       137     193.9\n",
      "121        45    100       120     100.7\n",
      "122        60    119       169     336.7\n",
      "123        60    107       127     344.9\n",
      "124        60    111       151     368.5\n",
      "125        60     98       122     271.0\n",
      "126        60     97       124     275.3\n",
      "127        60    109       127     382.0\n",
      "128        90     99       125     466.4\n",
      "129        60    114       151     384.0\n",
      "130        60    104       134     342.5\n",
      "131        60    107       138     357.5\n",
      "132        60    103       133     335.0\n",
      "133        60    106       132     327.5\n",
      "134        60    103       136     339.0\n",
      "135        20    136       156     189.0\n",
      "136        45    117       143     317.7\n",
      "137        45    115       137     318.0\n",
      "138        45    113       138     308.0\n",
      "139        20    141       162     222.4\n",
      "140        60    108       135     390.0\n",
      "141        60     97       127       NaN\n",
      "142        45    100       120     250.4\n",
      "143        45    122       149     335.4\n",
      "144        60    136       170     470.2\n",
      "145        45    106       126     270.8\n",
      "146        60    107       136     400.0\n",
      "147        60    112       146     361.9\n",
      "148        30    103       127     185.0\n",
      "149        60    110       150     409.4\n",
      "150        60    106       134     343.0\n",
      "151        60    109       129     353.2\n",
      "152        60    109       138     374.0\n",
      "153        30    150       167     275.8\n",
      "154        60    105       128     328.0\n",
      "155        60    111       151     368.5\n",
      "156        60     97       131     270.4\n",
      "157        60    100       120     270.4\n",
      "158        60    114       150     382.8\n",
      "159        30     80       120     240.9\n",
      "160        30     85       120     250.4\n",
      "161        45     90       130     260.4\n",
      "162        45     95       130     270.0\n",
      "163        45    100       140     280.9\n",
      "164        60    105       140     290.8\n",
      "165        60    110       145     300.0\n",
      "166        60    115       145     310.2\n",
      "167        75    120       150     320.4\n",
      "168        75    125       150     330.4\n"
     ]
    }
   ],
   "source": [
    "df=pd.read_csv('data.csv')\n",
    "print(df.to_string())"
   ]
  },
  {
   "cell_type": "code",
   "execution_count": 38,
   "id": "03349872-8235-4ca2-aa9f-67ad30c06bfc",
   "metadata": {},
   "outputs": [
    {
     "name": "stdout",
     "output_type": "stream",
     "text": [
      "     Duration  Pulse  Maxpulse  Calories\n",
      "0          60    110       130     409.1\n",
      "1          60    117       145     479.0\n",
      "2          60    103       135     340.0\n",
      "3          45    109       175     282.4\n",
      "4          45    117       148     406.0\n",
      "..        ...    ...       ...       ...\n",
      "164        60    105       140     290.8\n",
      "165        60    110       145     300.0\n",
      "166        60    115       145     310.2\n",
      "167        75    120       150     320.4\n",
      "168        75    125       150     330.4\n",
      "\n",
      "[169 rows x 4 columns]\n"
     ]
    }
   ],
   "source": [
    "df=pd.read_csv('data.csv')\n",
    "print(df)"
   ]
  },
  {
   "cell_type": "markdown",
   "id": "cdb8c763-b2ab-4e4b-b3a2-ad46a448cbca",
   "metadata": {},
   "source": [
    "pd.options.display.max_rows=9999\n",
    "df=pd.read_csv('data.csv')\n",
    "print(df)"
   ]
  },
  {
   "cell_type": "markdown",
   "id": "9558b169-6320-418c-9653-1a1fc529fa09",
   "metadata": {},
   "source": [
    "#### Summary of the dataset"
   ]
  },
  {
   "cell_type": "code",
   "execution_count": 41,
   "id": "9f64134b-2ff1-40d0-84eb-582646a6e1c5",
   "metadata": {},
   "outputs": [
    {
     "name": "stdout",
     "output_type": "stream",
     "text": [
      "\n",
      "Summary statistics:\n",
      "         Duration       Pulse    Maxpulse     Calories\n",
      "count  169.000000  169.000000  169.000000   164.000000\n",
      "mean    63.846154  107.461538  134.047337   375.790244\n",
      "std     42.299949   14.510259   16.450434   266.379919\n",
      "min     15.000000   80.000000  100.000000    50.300000\n",
      "25%     45.000000  100.000000  124.000000   250.925000\n",
      "50%     60.000000  105.000000  131.000000   318.600000\n",
      "75%     60.000000  111.000000  141.000000   387.600000\n",
      "max    300.000000  159.000000  184.000000  1860.400000\n"
     ]
    }
   ],
   "source": [
    "print(\"\\nSummary statistics:\")\n",
    "print(df.describe())\n"
   ]
  },
  {
   "cell_type": "markdown",
   "id": "037f223c-0137-4789-a713-96fa475b7fc8",
   "metadata": {},
   "source": [
    "#### Display the first and last five rows of the DataFrame:"
   ]
  },
  {
   "cell_type": "code",
   "execution_count": 43,
   "id": "4d469903-fbe3-4e41-a2bb-6db96b3965dd",
   "metadata": {},
   "outputs": [
    {
     "name": "stdout",
     "output_type": "stream",
     "text": [
      "First five rows: \n",
      "   Duration  Pulse  Maxpulse  Calories\n",
      "0        60    110       130     409.1\n",
      "1        60    117       145     479.0\n",
      "2        60    103       135     340.0\n",
      "3        45    109       175     282.4\n",
      "4        45    117       148     406.0\n",
      "Last five rows: \n",
      "     Duration  Pulse  Maxpulse  Calories\n",
      "164        60    105       140     290.8\n",
      "165        60    110       145     300.0\n",
      "166        60    115       145     310.2\n",
      "167        75    120       150     320.4\n",
      "168        75    125       150     330.4\n"
     ]
    }
   ],
   "source": [
    "print(\"First five rows: \")\n",
    "print(df.head())\n",
    "print(\"Last five rows: \")\n",
    "print(df.tail())"
   ]
  },
  {
   "cell_type": "markdown",
   "id": "23995195-ec61-4bfe-b0e9-6ea429b7ce0b",
   "metadata": {},
   "source": [
    "#### Extract a specific column as a Series:"
   ]
  },
  {
   "cell_type": "code",
   "execution_count": 45,
   "id": "0a043acd-7c01-417d-aa71-affcfc5c5438",
   "metadata": {},
   "outputs": [
    {
     "name": "stdout",
     "output_type": "stream",
     "text": [
      "Duration     60.0\n",
      "Pulse       105.0\n",
      "Maxpulse    140.0\n",
      "Calories    290.8\n",
      "Name: 164, dtype: float64\n"
     ]
    }
   ],
   "source": [
    "print(df.loc[164])\n"
   ]
  },
  {
   "cell_type": "code",
   "execution_count": 48,
   "id": "d3f3b27f-05eb-4f80-a76e-6a2744e21446",
   "metadata": {},
   "outputs": [
    {
     "name": "stdout",
     "output_type": "stream",
     "text": [
      "0    60\n",
      "1    60\n",
      "2    60\n",
      "3    45\n",
      "4    45\n",
      "Name: Duration, dtype: int64\n",
      "0       60\n",
      "1       60\n",
      "2       60\n",
      "3       45\n",
      "4       45\n",
      "5       60\n",
      "6       60\n",
      "7       45\n",
      "8       30\n",
      "9       60\n",
      "10      60\n",
      "11      60\n",
      "12      60\n",
      "13      60\n",
      "14      60\n",
      "15      60\n",
      "16      60\n",
      "17      45\n",
      "18      60\n",
      "19      45\n",
      "20      60\n",
      "21      45\n",
      "22      60\n",
      "23      45\n",
      "24      60\n",
      "25      60\n",
      "26      60\n",
      "27      60\n",
      "28      60\n",
      "29      60\n",
      "30      60\n",
      "31      45\n",
      "32      60\n",
      "33      60\n",
      "34      60\n",
      "35      60\n",
      "36      60\n",
      "37      60\n",
      "38      60\n",
      "39      45\n",
      "40      45\n",
      "41      60\n",
      "42      60\n",
      "43      60\n",
      "44      60\n",
      "45      60\n",
      "46      60\n",
      "47      45\n",
      "48      45\n",
      "49      60\n",
      "50      60\n",
      "51      80\n",
      "52      60\n",
      "53      60\n",
      "54      30\n",
      "55      60\n",
      "56      60\n",
      "57      45\n",
      "58      20\n",
      "59      45\n",
      "60     210\n",
      "61     160\n",
      "62     160\n",
      "63      45\n",
      "64      20\n",
      "65     180\n",
      "66     150\n",
      "67     150\n",
      "68      20\n",
      "69     300\n",
      "70     150\n",
      "71      60\n",
      "72      90\n",
      "73     150\n",
      "74      45\n",
      "75      90\n",
      "76      45\n",
      "77      45\n",
      "78     120\n",
      "79     270\n",
      "80      30\n",
      "81      45\n",
      "82      30\n",
      "83     120\n",
      "84      45\n",
      "85      30\n",
      "86      45\n",
      "87     120\n",
      "88      45\n",
      "89      20\n",
      "90     180\n",
      "91      45\n",
      "92      30\n",
      "93      15\n",
      "94      20\n",
      "95      20\n",
      "96      30\n",
      "97      25\n",
      "98      30\n",
      "99      90\n",
      "100     20\n",
      "101     90\n",
      "102     90\n",
      "103     90\n",
      "104     30\n",
      "105     30\n",
      "106    180\n",
      "107     30\n",
      "108     90\n",
      "109    210\n",
      "110     60\n",
      "111     45\n",
      "112     15\n",
      "113     45\n",
      "114     60\n",
      "115     60\n",
      "116     60\n",
      "117     60\n",
      "118     60\n",
      "119     60\n",
      "120     30\n",
      "121     45\n",
      "122     60\n",
      "123     60\n",
      "124     60\n",
      "125     60\n",
      "126     60\n",
      "127     60\n",
      "128     90\n",
      "129     60\n",
      "130     60\n",
      "131     60\n",
      "132     60\n",
      "133     60\n",
      "134     60\n",
      "135     20\n",
      "136     45\n",
      "137     45\n",
      "138     45\n",
      "139     20\n",
      "140     60\n",
      "141     60\n",
      "142     45\n",
      "143     45\n",
      "144     60\n",
      "145     45\n",
      "146     60\n",
      "147     60\n",
      "148     30\n",
      "149     60\n",
      "150     60\n",
      "151     60\n",
      "152     60\n",
      "153     30\n",
      "154     60\n",
      "155     60\n",
      "156     60\n",
      "157     60\n",
      "158     60\n",
      "159     30\n",
      "160     30\n",
      "161     45\n",
      "162     45\n",
      "163     45\n",
      "164     60\n",
      "165     60\n",
      "166     60\n",
      "167     75\n",
      "168     75\n",
      "Name: Duration, dtype: int64\n"
     ]
    }
   ],
   "source": [
    "column_data=df['Duration']\n",
    "print(column_data.head())\n",
    "print(column_data)"
   ]
  },
  {
   "cell_type": "markdown",
   "id": "d012ad9e-284d-4a56-9ed0-b6c2955eba5f",
   "metadata": {},
   "source": [
    "#### Filter rows based on column values:"
   ]
  },
  {
   "cell_type": "code",
   "execution_count": 51,
   "id": "acd6fd45-490c-4ead-bfd8-73f739624a3b",
   "metadata": {},
   "outputs": [
    {
     "name": "stdout",
     "output_type": "stream",
     "text": [
      "     Duration  Pulse  Maxpulse  Calories\n",
      "0          60    110       130     409.1\n",
      "1          60    117       145     479.0\n",
      "2          60    103       135     340.0\n",
      "5          60    102       127     300.0\n",
      "6          60    110       136     374.0\n",
      "9          60     98       124     269.0\n",
      "10         60    103       147     329.3\n",
      "11         60    100       120     250.7\n",
      "12         60    106       128     345.3\n",
      "13         60    104       132     379.3\n",
      "14         60     98       123     275.0\n",
      "15         60     98       120     215.2\n",
      "16         60    100       120     300.0\n",
      "18         60    103       123     323.0\n",
      "20         60    108       131     364.2\n",
      "22         60    130       101     300.0\n",
      "24         60    102       126     334.5\n",
      "25         60    100       120     250.0\n",
      "26         60     92       118     241.0\n",
      "27         60    103       132       NaN\n",
      "28         60    100       132     280.0\n",
      "29         60    102       129     380.3\n",
      "30         60     92       115     243.0\n",
      "32         60    101       124     299.0\n",
      "33         60     93       113     223.0\n",
      "34         60    107       136     361.0\n",
      "35         60    114       140     415.0\n",
      "36         60    102       127     300.0\n",
      "37         60    100       120     300.0\n",
      "38         60    100       120     300.0\n",
      "41         60     98       126     286.0\n",
      "42         60    100       122     329.4\n",
      "43         60    111       138     400.0\n",
      "44         60    111       131     397.0\n",
      "45         60     99       119     273.0\n",
      "46         60    109       153     387.6\n",
      "49         60    111       139     397.6\n",
      "50         60    107       136     380.2\n",
      "51         80    123       146     643.1\n",
      "52         60    106       130     263.0\n",
      "53         60    118       151     486.0\n",
      "55         60    121       146     450.7\n",
      "56         60    118       121     413.0\n",
      "60        210    108       160    1376.0\n",
      "61        160    110       137    1034.4\n",
      "62        160    109       135     853.0\n",
      "65        180     90       130     800.4\n",
      "66        150    105       135     873.4\n",
      "67        150    107       130     816.0\n",
      "69        300    108       143    1500.2\n",
      "70        150     97       129    1115.0\n",
      "71         60    109       153     387.6\n",
      "72         90    100       127     700.0\n",
      "73        150     97       127     953.2\n",
      "75         90     98       125     563.2\n",
      "78        120    100       130     500.4\n",
      "79        270    100       131    1729.0\n",
      "83        120    100       130     500.0\n",
      "87        120    100       157    1000.1\n",
      "90        180    101       127     600.1\n",
      "99         90     93       124     604.1\n",
      "101        90     90       110     500.0\n",
      "102        90     90       100     500.0\n",
      "103        90     90       100     500.4\n",
      "106       180     90       120     800.3\n",
      "108        90     90       120     500.3\n",
      "109       210    137       184    1860.4\n",
      "110        60    102       124     325.2\n",
      "114        60    108       131     367.6\n",
      "115        60    108       151     351.7\n",
      "116        60    116       141     443.0\n",
      "117        60     97       122     277.4\n",
      "118        60    105       125       NaN\n",
      "119        60    103       124     332.7\n",
      "122        60    119       169     336.7\n",
      "123        60    107       127     344.9\n",
      "124        60    111       151     368.5\n",
      "125        60     98       122     271.0\n",
      "126        60     97       124     275.3\n",
      "127        60    109       127     382.0\n",
      "128        90     99       125     466.4\n",
      "129        60    114       151     384.0\n",
      "130        60    104       134     342.5\n",
      "131        60    107       138     357.5\n",
      "132        60    103       133     335.0\n",
      "133        60    106       132     327.5\n",
      "134        60    103       136     339.0\n",
      "140        60    108       135     390.0\n",
      "141        60     97       127       NaN\n",
      "144        60    136       170     470.2\n",
      "146        60    107       136     400.0\n",
      "147        60    112       146     361.9\n",
      "149        60    110       150     409.4\n",
      "150        60    106       134     343.0\n",
      "151        60    109       129     353.2\n",
      "152        60    109       138     374.0\n",
      "154        60    105       128     328.0\n",
      "155        60    111       151     368.5\n",
      "156        60     97       131     270.4\n",
      "157        60    100       120     270.4\n",
      "158        60    114       150     382.8\n",
      "164        60    105       140     290.8\n",
      "165        60    110       145     300.0\n",
      "166        60    115       145     310.2\n",
      "167        75    120       150     320.4\n",
      "168        75    125       150     330.4\n"
     ]
    }
   ],
   "source": [
    "filtered_df= df[df['Duration']>50]\n",
    "print(filtered_df)"
   ]
  },
  {
   "cell_type": "markdown",
   "id": "07c9f3ed-c031-4112-bd32-507d3b1eb517",
   "metadata": {},
   "source": [
    "#### Select rows based on multiple conditions:"
   ]
  },
  {
   "cell_type": "code",
   "execution_count": 58,
   "id": "7a31ca13-52b3-45d8-8a8f-bb99060183a0",
   "metadata": {},
   "outputs": [
    {
     "name": "stdout",
     "output_type": "stream",
     "text": [
      "     Duration  Pulse  Maxpulse  Calories\n",
      "0          60    110       130     409.1\n",
      "1          60    117       145     479.0\n",
      "2          60    103       135     340.0\n",
      "5          60    102       127     300.0\n",
      "6          60    110       136     374.0\n",
      "10         60    103       147     329.3\n",
      "12         60    106       128     345.3\n",
      "13         60    104       132     379.3\n",
      "18         60    103       123     323.0\n",
      "20         60    108       131     364.2\n",
      "22         60    130       101     300.0\n",
      "24         60    102       126     334.5\n",
      "27         60    103       132       NaN\n",
      "29         60    102       129     380.3\n",
      "32         60    101       124     299.0\n",
      "34         60    107       136     361.0\n",
      "35         60    114       140     415.0\n",
      "36         60    102       127     300.0\n",
      "43         60    111       138     400.0\n",
      "44         60    111       131     397.0\n",
      "46         60    109       153     387.6\n",
      "49         60    111       139     397.6\n",
      "50         60    107       136     380.2\n",
      "51         80    123       146     643.1\n",
      "52         60    106       130     263.0\n",
      "53         60    118       151     486.0\n",
      "55         60    121       146     450.7\n",
      "56         60    118       121     413.0\n",
      "60        210    108       160    1376.0\n",
      "61        160    110       137    1034.4\n",
      "62        160    109       135     853.0\n",
      "66        150    105       135     873.4\n",
      "67        150    107       130     816.0\n",
      "69        300    108       143    1500.2\n",
      "71         60    109       153     387.6\n",
      "90        180    101       127     600.1\n",
      "109       210    137       184    1860.4\n",
      "110        60    102       124     325.2\n",
      "114        60    108       131     367.6\n",
      "115        60    108       151     351.7\n",
      "116        60    116       141     443.0\n",
      "118        60    105       125       NaN\n",
      "119        60    103       124     332.7\n",
      "122        60    119       169     336.7\n",
      "123        60    107       127     344.9\n",
      "124        60    111       151     368.5\n",
      "127        60    109       127     382.0\n",
      "129        60    114       151     384.0\n",
      "130        60    104       134     342.5\n",
      "131        60    107       138     357.5\n",
      "132        60    103       133     335.0\n",
      "133        60    106       132     327.5\n",
      "134        60    103       136     339.0\n",
      "140        60    108       135     390.0\n",
      "144        60    136       170     470.2\n",
      "146        60    107       136     400.0\n",
      "147        60    112       146     361.9\n",
      "149        60    110       150     409.4\n",
      "150        60    106       134     343.0\n",
      "151        60    109       129     353.2\n",
      "152        60    109       138     374.0\n",
      "154        60    105       128     328.0\n",
      "155        60    111       151     368.5\n",
      "158        60    114       150     382.8\n",
      "164        60    105       140     290.8\n",
      "165        60    110       145     300.0\n",
      "166        60    115       145     310.2\n",
      "167        75    120       150     320.4\n",
      "168        75    125       150     330.4\n"
     ]
    }
   ],
   "source": [
    "filtered_df2 = df[(df['Duration'] > 50) & (df['Pulse'] > 100)]\n",
    "print(filtered_df2)"
   ]
  },
  {
   "cell_type": "markdown",
   "id": "c7ad8d1c-cba4-421b-9458-388344980bd9",
   "metadata": {},
   "source": [
    "#### Delete a column"
   ]
  },
  {
   "cell_type": "code",
   "execution_count": 59,
   "id": "2a805c87-4f48-4bd4-bda1-b553f155cc0c",
   "metadata": {},
   "outputs": [
    {
     "name": "stdout",
     "output_type": "stream",
     "text": [
      "\n",
      "DataFrame with 'pulse' column deleted:\n",
      "     Duration  Maxpulse  Calories\n",
      "0          60       130     409.1\n",
      "1          60       145     479.0\n",
      "2          60       135     340.0\n",
      "3          45       175     282.4\n",
      "4          45       148     406.0\n",
      "5          60       127     300.0\n",
      "6          60       136     374.0\n",
      "7          45       134     253.3\n",
      "8          30       133     195.1\n",
      "9          60       124     269.0\n",
      "10         60       147     329.3\n",
      "11         60       120     250.7\n",
      "12         60       128     345.3\n",
      "13         60       132     379.3\n",
      "14         60       123     275.0\n",
      "15         60       120     215.2\n",
      "16         60       120     300.0\n",
      "17         45       112       NaN\n",
      "18         60       123     323.0\n",
      "19         45       125     243.0\n",
      "20         60       131     364.2\n",
      "21         45       119     282.0\n",
      "22         60       101     300.0\n",
      "23         45       132     246.0\n",
      "24         60       126     334.5\n",
      "25         60       120     250.0\n",
      "26         60       118     241.0\n",
      "27         60       132       NaN\n",
      "28         60       132     280.0\n",
      "29         60       129     380.3\n",
      "30         60       115     243.0\n",
      "31         45       112     180.1\n",
      "32         60       124     299.0\n",
      "33         60       113     223.0\n",
      "34         60       136     361.0\n",
      "35         60       140     415.0\n",
      "36         60       127     300.0\n",
      "37         60       120     300.0\n",
      "38         60       120     300.0\n",
      "39         45       129     266.0\n",
      "40         45       112     180.1\n",
      "41         60       126     286.0\n",
      "42         60       122     329.4\n",
      "43         60       138     400.0\n",
      "44         60       131     397.0\n",
      "45         60       119     273.0\n",
      "46         60       153     387.6\n",
      "47         45       136     300.0\n",
      "48         45       129     298.0\n",
      "49         60       139     397.6\n",
      "50         60       136     380.2\n",
      "51         80       146     643.1\n",
      "52         60       130     263.0\n",
      "53         60       151     486.0\n",
      "54         30       175     238.0\n",
      "55         60       146     450.7\n",
      "56         60       121     413.0\n",
      "57         45       144     305.0\n",
      "58         20       172     226.4\n",
      "59         45       152     321.0\n",
      "60        210       160    1376.0\n",
      "61        160       137    1034.4\n",
      "62        160       135     853.0\n",
      "63         45       141     341.0\n",
      "64         20       130     131.4\n",
      "65        180       130     800.4\n",
      "66        150       135     873.4\n",
      "67        150       130     816.0\n",
      "68         20       136     110.4\n",
      "69        300       143    1500.2\n",
      "70        150       129    1115.0\n",
      "71         60       153     387.6\n",
      "72         90       127     700.0\n",
      "73        150       127     953.2\n",
      "74         45       146     304.0\n",
      "75         90       125     563.2\n",
      "76         45       134     251.0\n",
      "77         45       141     300.0\n",
      "78        120       130     500.4\n",
      "79        270       131    1729.0\n",
      "80         30       182     319.2\n",
      "81         45       169     344.0\n",
      "82         30       139     151.1\n",
      "83        120       130     500.0\n",
      "84         45       120     225.3\n",
      "85         30       170     300.0\n",
      "86         45       136     234.0\n",
      "87        120       157    1000.1\n",
      "88         45       103     242.0\n",
      "89         20       107      50.3\n",
      "90        180       127     600.1\n",
      "91         45       137       NaN\n",
      "92         30       107     105.3\n",
      "93         15       100      50.5\n",
      "94         20       171     127.4\n",
      "95         20       168     229.4\n",
      "96         30       128     128.2\n",
      "97         25       168     244.2\n",
      "98         30       131     188.2\n",
      "99         90       124     604.1\n",
      "100        20       112      77.7\n",
      "101        90       110     500.0\n",
      "102        90       100     500.0\n",
      "103        90       100     500.4\n",
      "104        30       108      92.7\n",
      "105        30       128     124.0\n",
      "106       180       120     800.3\n",
      "107        30       120      86.2\n",
      "108        90       120     500.3\n",
      "109       210       184    1860.4\n",
      "110        60       124     325.2\n",
      "111        45       124     275.0\n",
      "112        15       139     124.2\n",
      "113        45       120     225.3\n",
      "114        60       131     367.6\n",
      "115        60       151     351.7\n",
      "116        60       141     443.0\n",
      "117        60       122     277.4\n",
      "118        60       125       NaN\n",
      "119        60       124     332.7\n",
      "120        30       137     193.9\n",
      "121        45       120     100.7\n",
      "122        60       169     336.7\n",
      "123        60       127     344.9\n",
      "124        60       151     368.5\n",
      "125        60       122     271.0\n",
      "126        60       124     275.3\n",
      "127        60       127     382.0\n",
      "128        90       125     466.4\n",
      "129        60       151     384.0\n",
      "130        60       134     342.5\n",
      "131        60       138     357.5\n",
      "132        60       133     335.0\n",
      "133        60       132     327.5\n",
      "134        60       136     339.0\n",
      "135        20       156     189.0\n",
      "136        45       143     317.7\n",
      "137        45       137     318.0\n",
      "138        45       138     308.0\n",
      "139        20       162     222.4\n",
      "140        60       135     390.0\n",
      "141        60       127       NaN\n",
      "142        45       120     250.4\n",
      "143        45       149     335.4\n",
      "144        60       170     470.2\n",
      "145        45       126     270.8\n",
      "146        60       136     400.0\n",
      "147        60       146     361.9\n",
      "148        30       127     185.0\n",
      "149        60       150     409.4\n",
      "150        60       134     343.0\n",
      "151        60       129     353.2\n",
      "152        60       138     374.0\n",
      "153        30       167     275.8\n",
      "154        60       128     328.0\n",
      "155        60       151     368.5\n",
      "156        60       131     270.4\n",
      "157        60       120     270.4\n",
      "158        60       150     382.8\n",
      "159        30       120     240.9\n",
      "160        30       120     250.4\n",
      "161        45       130     260.4\n",
      "162        45       130     270.0\n",
      "163        45       140     280.9\n",
      "164        60       140     290.8\n",
      "165        60       145     300.0\n",
      "166        60       145     310.2\n",
      "167        75       150     320.4\n",
      "168        75       150     330.4\n"
     ]
    }
   ],
   "source": [
    "df_without_pulse = df.drop(columns=['Pulse'])\n",
    "print(\"\\nDataFrame with 'pulse' column deleted:\")\n",
    "print(df_without_pulse)\n"
   ]
  },
  {
   "cell_type": "code",
   "execution_count": null,
   "id": "337323c3-ce77-4dc3-a4a7-b71da68b6805",
   "metadata": {},
   "outputs": [],
   "source": []
  }
 ],
 "metadata": {
  "kernelspec": {
   "display_name": "Python 3 (ipykernel)",
   "language": "python",
   "name": "python3"
  },
  "language_info": {
   "codemirror_mode": {
    "name": "ipython",
    "version": 3
   },
   "file_extension": ".py",
   "mimetype": "text/x-python",
   "name": "python",
   "nbconvert_exporter": "python",
   "pygments_lexer": "ipython3",
   "version": "3.11.7"
  }
 },
 "nbformat": 4,
 "nbformat_minor": 5
}
