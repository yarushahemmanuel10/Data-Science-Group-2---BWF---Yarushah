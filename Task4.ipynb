{
 "cells": [
  {
   "cell_type": "code",
   "execution_count": 4,
   "id": "01316211-acfe-4a35-b33f-2b4413c92c5a",
   "metadata": {},
   "outputs": [
    {
     "name": "stdin",
     "output_type": "stream",
     "text": [
      "Enter your height in meters 10\n",
      "Enter your weight in kilogrmas 78\n"
     ]
    },
    {
     "name": "stdout",
     "output_type": "stream",
     "text": [
      "Your BMI is: \n",
      "0.1282051282051282\n"
     ]
    }
   ],
   "source": [
    "#bmi calculator\n",
    "\n",
    "num1= int(input((\"Enter your height in meters\")))\n",
    "num2= int(input((\"Enter your weight in kilogrmas\")))\n",
    "\n",
    "\n",
    "def BMI_calculator(h, w):\n",
    "    print(\"Your BMI is: \")\n",
    "    return h/w\n",
    "print(BMI_calculator(num1, num2))\n",
    "\n",
    "\n"
   ]
  },
  {
   "cell_type": "code",
   "execution_count": 9,
   "id": "3270baf8-5953-41e6-af43-93c53ed2f134",
   "metadata": {},
   "outputs": [
    {
     "name": "stdin",
     "output_type": "stream",
     "text": [
      "Select 1 for length, 2 for weight and 3 for temperature 1\n"
     ]
    },
    {
     "name": "stdout",
     "output_type": "stream",
     "text": [
      "Length Convertor\n",
      "1. Meter to feets\n",
      "2. Feets to Meters\n"
     ]
    },
    {
     "name": "stdin",
     "output_type": "stream",
     "text": [
      "Enter 1 or 2 2\n",
      "Write the value:  67\n"
     ]
    },
    {
     "name": "stdout",
     "output_type": "stream",
     "text": [
      "The result in Feets is: 20.426306155574064\n"
     ]
    }
   ],
   "source": [
    "#simple unit convertor\n",
    "#converts length, weight, temperature\n",
    "\n",
    "def length_convertor():\n",
    "    print(\"Length Convertor\")\n",
    "    print(\"1. Meter to feets\")\n",
    "    print(\"2. Feets to Meters\")\n",
    "    choice=int(input(\"Enter 1 or 2\"))\n",
    "    value=int(input(\"Write the value: \"))\n",
    "    if choice == 1:\n",
    "        result= value*3.28084\n",
    "        print(\"The result in Meters is:\", result)\n",
    "    elif choice == 2:\n",
    "        result= value/3.280084\n",
    "        print(\"The result in Feets is:\", result)\n",
    "    else:\n",
    "        print(\"You can only use 1 or 2\")\n",
    "\n",
    "def weight_convertor():\n",
    "    print(\"Weight Convertor\")\n",
    "    print(\"1. Kilgrams to grams\")\n",
    "    print(\"2. Grams to Kilograms\")\n",
    "    choice=int(input(\"Enter 1 or 2\"))\n",
    "    value=int(input(\"Write the value: \"))\n",
    "    if choice == 1:\n",
    "        result= value/1000\n",
    "        print(\"The result in grams is:\", result)\n",
    "    elif choice == 2:\n",
    "        result= value*1000\n",
    "        print(\"The result in Kilograms is:\", result)\n",
    "    else:\n",
    "        print(\"You can only use 1 or 2\")\n",
    "\n",
    "def temp_convertor():\n",
    "    print(\"Temperature Convertor\")\n",
    "    print(\"1. Celsius to Fahrenhiet\")\n",
    "    print(\"2. Fahrenhiet to Celsius\")\n",
    "    choice=int(input(\"Enter 1 or 2\"))\n",
    "    value=int(input(\"Write the value: \"))\n",
    "    if choice == 1:\n",
    "        result= (value*9/5) + 32\n",
    "        print(\"The result in Celsius is:\", result)\n",
    "    elif choice == 2:\n",
    "        result= (value-32) *5/9\n",
    "        print(\"The result in Fahrenhiet is:\", result)\n",
    "    else:\n",
    "        print(\"You can only use 1 or 2\")\n",
    "def main():\n",
    "    conversion_type=int(input(\"Select 1 for length, 2 for weight and 3 for temperature\"))\n",
    "    if conversion_type==1:\n",
    "        length_convertor()\n",
    "    elif conversion_type==2:\n",
    "        weight_convertor()\n",
    "    elif conversion_type==3:\n",
    "        temp_convertor\n",
    "    else:\n",
    "        print(\"Select only 1,2 or 3\")\n",
    "\n",
    "main()\n",
    " \n",
    "\n",
    "    \n",
    "    "
   ]
  },
  {
   "cell_type": "code",
   "execution_count": null,
   "id": "3c2544a7-e3cd-4a84-8b10-4055da2be46e",
   "metadata": {},
   "outputs": [],
   "source": []
  }
 ],
 "metadata": {
  "kernelspec": {
   "display_name": "Python 3 (ipykernel)",
   "language": "python",
   "name": "python3"
  },
  "language_info": {
   "codemirror_mode": {
    "name": "ipython",
    "version": 3
   },
   "file_extension": ".py",
   "mimetype": "text/x-python",
   "name": "python",
   "nbconvert_exporter": "python",
   "pygments_lexer": "ipython3",
   "version": "3.11.7"
  }
 },
 "nbformat": 4,
 "nbformat_minor": 5
}
