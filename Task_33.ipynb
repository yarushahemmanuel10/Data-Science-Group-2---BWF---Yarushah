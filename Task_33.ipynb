{
  "cells": [
    {
      "cell_type": "markdown",
      "metadata": {
        "id": "4P23bRQ8JDY2"
      },
      "source": [
        "# Simple Linear Regression."
      ]
    },
    {
      "cell_type": "markdown",
      "metadata": {
        "id": "309fskI4JDY4"
      },
      "source": [
        "### Import the relevant libraries"
      ]
    },
    {
      "cell_type": "code",
      "execution_count": 35,
      "metadata": {
        "id": "osEgWKaFJDY4"
      },
      "outputs": [],
      "source": [
        "import numpy as np\n",
        "import matplotlib.pyplot as plt\n",
        "from mpl_toolkits.mplot3d import Axes3D"
      ]
    },
    {
      "cell_type": "markdown",
      "source": [
        "**Generating random input data to train on**"
      ],
      "metadata": {
        "id": "EXxa3qoFJOI7"
      }
    },
    {
      "cell_type": "code",
      "source": [
        "observations= 1000\n",
        "xs=np.random.uniform(low=-10,high=10,size=(observations,1))\n",
        "zs=np.random.uniform(-10,10,(observations,1))\n",
        "inputs= np.column_stack((xs,zs))\n",
        "print(inputs.shape)"
      ],
      "metadata": {
        "colab": {
          "base_uri": "https://localhost:8080/"
        },
        "id": "38XoitjgJEzd",
        "outputId": "2bf50894-2773-485f-e3fd-e36985bb3c0d"
      },
      "execution_count": 36,
      "outputs": [
        {
          "output_type": "stream",
          "name": "stdout",
          "text": [
            "(1000, 2)\n"
          ]
        }
      ]
    },
    {
      "cell_type": "markdown",
      "source": [
        "**Creating the targets we will aim at**"
      ],
      "metadata": {
        "id": "vhaT5wD3Kj9F"
      }
    },
    {
      "cell_type": "code",
      "source": [
        "noise= np.random.uniform(-1,1,(observations,1))\n",
        "\n",
        "targets= 2*xs - 3*zs + noise\n",
        "print(targets.shape)"
      ],
      "metadata": {
        "colab": {
          "base_uri": "https://localhost:8080/"
        },
        "id": "M0ekFaPPKsEl",
        "outputId": "f5c75a88-1225-4484-c316-116e80366540"
      },
      "execution_count": 37,
      "outputs": [
        {
          "output_type": "stream",
          "name": "stdout",
          "text": [
            "(1000, 1)\n"
          ]
        }
      ]
    },
    {
      "cell_type": "markdown",
      "source": [
        "**Initiazling Variables**"
      ],
      "metadata": {
        "id": "ImYkH8DxL-Ug"
      }
    },
    {
      "cell_type": "code",
      "source": [
        "init_range = 0.1\n",
        "weights = np.random.uniform(low=-init_range, high=init_range, size=(2, 1))\n",
        "biases = np.random.uniform(low=-init_range, high=init_range, size=1)\n",
        "print(weights)\n",
        "print(biases)"
      ],
      "metadata": {
        "colab": {
          "base_uri": "https://localhost:8080/"
        },
        "id": "lQC4_6H1K9BJ",
        "outputId": "9f266ff1-fdf4-4717-9f36-6db2296bbcbd"
      },
      "execution_count": 44,
      "outputs": [
        {
          "output_type": "stream",
          "name": "stdout",
          "text": [
            "[[0.05573651]\n",
            " [0.03433573]]\n",
            "[0.03145548]\n"
          ]
        }
      ]
    },
    {
      "cell_type": "markdown",
      "source": [
        "**Set a learning rate**"
      ],
      "metadata": {
        "id": "SF37wtW4OCUH"
      }
    },
    {
      "cell_type": "code",
      "source": [
        "learning_rate=0.02"
      ],
      "metadata": {
        "id": "R6tABNYeMES9"
      },
      "execution_count": 45,
      "outputs": []
    },
    {
      "cell_type": "markdown",
      "source": [
        "**Train the model**"
      ],
      "metadata": {
        "id": "CUQX3Cr_OWeb"
      }
    },
    {
      "cell_type": "code",
      "source": [
        "for i in range(100):\n",
        "  outputs = np.dot(inputs,weights) + biases\n",
        "  deltas = outputs - targets\n",
        "\n",
        "  loss = np.sum(deltas**2)/2/observations\n",
        "\n",
        "  print(loss)\n",
        "\n",
        "  deltas_scaled= deltas/observations\n",
        "  weights = weights - learning_rate * np.dot(inputs.T,deltas_scaled)\n",
        "  biases= biases - learning_rate * np.sum(deltas_scaled)\n",
        "\n",
        "\n"
      ],
      "metadata": {
        "colab": {
          "base_uri": "https://localhost:8080/"
        },
        "id": "6bNLr8mNOTDO",
        "outputId": "8815c684-6745-40c5-a9d9-3a03b7bc497d"
      },
      "execution_count": 46,
      "outputs": [
        {
          "output_type": "stream",
          "name": "stdout",
          "text": [
            "211.5871316393934\n",
            "25.801399210033264\n",
            "3.2812640631146013\n",
            "0.546962033093967\n",
            "0.21452089473789215\n",
            "0.1739993558776244\n",
            "0.1689899614919906\n",
            "0.16830583587590736\n",
            "0.1681512798735782\n",
            "0.1680640261982333\n",
            "0.1679876633476307\n",
            "0.1679152133933821\n",
            "0.16784572442598147\n",
            "0.16777898272383898\n",
            "0.1677148683577756\n",
            "0.1676532765215563\n",
            "0.1675941078001172\n",
            "0.16753726684402012\n",
            "0.16748266207381088\n",
            "0.16743020551516663\n",
            "0.16737981265505059\n",
            "0.1673314023052957\n",
            "0.16728489647177025\n",
            "0.16724022022871798\n",
            "0.1671973015980439\n",
            "0.16715607143335037\n",
            "0.16711646330853464\n",
            "0.16707841341076976\n",
            "0.1670418604376954\n",
            "0.16700674549865305\n",
            "0.1669730120198077\n",
            "0.16694060565300053\n",
            "0.16690947418818927\n",
            "0.16687956746933166\n",
            "0.16685083731357928\n",
            "0.16682323743364974\n",
            "0.16679672336325327\n",
            "0.16677125238545232\n",
            "0.16674678346384073\n",
            "0.16672327717642957\n",
            "0.16670069565213397\n",
            "0.16667900250975934\n",
            "0.16665816279938694\n",
            "0.16663814294606616\n",
            "0.16661891069572196\n",
            "0.16660043506318967\n",
            "0.16658268628229528\n",
            "0.1665656357578985\n",
            "0.1665492560198231\n",
            "0.16653352067860003\n",
            "0.16651840438295062\n",
            "0.16650388277894337\n",
            "0.16648993247075713\n",
            "0.1664765309829881\n",
            "0.16646365672443927\n",
            "0.16645128895333525\n",
            "0.16643940774390473\n",
            "0.166427993954278\n",
            "0.1664170291956476\n",
            "0.166406495802642\n",
            "0.16639637680486435\n",
            "0.16638665589955237\n",
            "0.16637731742531195\n",
            "0.1663683463368855\n",
            "0.16635972818091233\n",
            "0.16635144907264293\n",
            "0.16634349567356874\n",
            "0.1663358551699331\n",
            "0.1663285152520865\n",
            "0.1663214640946544\n",
            "0.16631469033748547\n",
            "0.1663081830673494\n",
            "0.16630193180035405\n",
            "0.16629592646505534\n",
            "0.1662901573862306\n",
            "0.16628461526929134\n",
            "0.1662792911853079\n",
            "0.16627417655662502\n",
            "0.16626926314304133\n",
            "0.1662645430285345\n",
            "0.16626000860850673\n",
            "0.16625565257753386\n",
            "0.16625146791759468\n",
            "0.16624744788676504\n",
            "0.16624358600835512\n",
            "0.1662398760604755\n",
            "0.1662363120660125\n",
            "0.16623288828299876\n",
            "0.16622959919536207\n",
            "0.1662264395040387\n",
            "0.16622340411843586\n",
            "0.16622048814823018\n",
            "0.16621768689548902\n",
            "0.16621499584710153\n",
            "0.16621241066750778\n",
            "0.16620992719171324\n",
            "0.16620754141857896\n",
            "0.16620524950437515\n",
            "0.16620304775658867\n",
            "0.16620093262797378\n"
          ]
        }
      ]
    },
    {
      "cell_type": "code",
      "source": [
        "print(weights,biases)"
      ],
      "metadata": {
        "colab": {
          "base_uri": "https://localhost:8080/"
        },
        "id": "7Oo8bK6EP1a7",
        "outputId": "2a2fed98-edca-4d35-a418-8517bdbdf33d"
      },
      "execution_count": 43,
      "outputs": [
        {
          "output_type": "stream",
          "name": "stdout",
          "text": [
            "[[ 1.99954656]\n",
            " [-2.99875799]] [-0.01079094]\n"
          ]
        }
      ]
    },
    {
      "cell_type": "code",
      "source": [
        "plt.plot(outputs, targets)\n",
        "plt.xlabel('outputs')\n",
        "plt.ylabel('targets')\n",
        "plt.show()"
      ],
      "metadata": {
        "colab": {
          "base_uri": "https://localhost:8080/",
          "height": 449
        },
        "id": "KE5BVuNdQfxB",
        "outputId": "1074b0c4-a06a-46fc-f53e-d67cd695d69e"
      },
      "execution_count": 48,
      "outputs": [
        {
          "output_type": "display_data",
          "data": {
            "text/plain": [
              "<Figure size 640x480 with 1 Axes>"
            ],
            "image/png": "[encoded data removed]"
          },
          "metadata": {}
        }
      ]
    },
    {
      "cell_type": "code",
      "source": [],
      "metadata": {
        "id": "koRuW4xZQ6Gb"
      },
      "execution_count": null,
      "outputs": []
    }
  ],
  "metadata": {
    "anaconda-cloud": {},
    "kernelspec": {
      "display_name": "Python 3",
      "language": "python",
      "name": "python3"
    },
    "language_info": {
      "codemirror_mode": {
        "name": "ipython",
        "version": 3
      },
      "file_extension": ".py",
      "mimetype": "text/x-python",
      "name": "python",
      "nbconvert_exporter": "python",
      "pygments_lexer": "ipython3",
      "version": "3.6.2"
    },
    "colab": {
      "provenance": []
    }
  },
  "nbformat": 4,
  "nbformat_minor": 0
}