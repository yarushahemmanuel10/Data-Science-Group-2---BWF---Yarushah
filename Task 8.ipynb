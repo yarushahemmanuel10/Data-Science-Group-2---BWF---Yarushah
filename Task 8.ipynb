{
 "cells": [
  {
   "cell_type": "markdown",
   "id": "f0bfa298-f435-4444-a138-b22a2c9149c1",
   "metadata": {},
   "source": [
    "### Lists\n",
    "Python Lists are just like the arrays, declared in other languages which is an ordered collection of data. It is very flexible as the items in a list do not need to be of the same type."
   ]
  },
  {
   "cell_type": "code",
   "execution_count": 6,
   "id": "cbb0cc37-0893-4cf2-abcc-37c934a1787f",
   "metadata": {},
   "outputs": [
    {
     "name": "stdout",
     "output_type": "stream",
     "text": [
      "[1, 2, 3, 'GFG', 2.3]\n"
     ]
    }
   ],
   "source": [
    "List = [1, 2,  3, \"GFG\", 2.3]\n",
    "print(List)"
   ]
  },
  {
   "cell_type": "markdown",
   "id": "eb5bb3f3-1a5b-449a-82a1-8118f19da7a8",
   "metadata": {},
   "source": [
    "### Dictionary\n",
    "Python dictionary is like hash tables in any other language with the time complexity of O(1). It is an unordered collection of data values, used to store data values like a map, which, unlike other Data Types that hold only a single value as an element, Dictionary holds the key:value pair. Key-value is provided in the dictionary to make it more optimized. "
   ]
  },
  {
   "cell_type": "code",
   "execution_count": 8,
   "id": "b8293215-2c81-4e54-92d2-2f430bc37267",
   "metadata": {},
   "outputs": [
    {
     "name": "stdout",
     "output_type": "stream",
     "text": [
      "Creating Dictionary: \n",
      "{'Name': 'Yarushah', 1: [1, 2, 3, 4]}\n",
      "Accessing a element using key:\n",
      "Yarushah\n",
      "Accessing a element using get:\n",
      "[1, 2, 3, 4]\n",
      "{1: 1, 2: 4, 3: 9, 4: 16, 5: 25}\n"
     ]
    }
   ],
   "source": [
    "Dict = {'Name': 'Yarushah', 1: [1, 2, 3, 4]}\n",
    "print(\"Creating Dictionary: \")\n",
    "print(Dict)\n",
    " \n",
    "# accessing a element using key \n",
    "print(\"Accessing a element using key:\") \n",
    "print(Dict['Name']) \n",
    " \n",
    "# accessing a element using get() \n",
    "# method \n",
    "print(\"Accessing a element using get:\") \n",
    "print(Dict.get(1)) \n",
    " \n",
    "# creation using Dictionary comprehension\n",
    "myDict = {x: x**2 for x in [1,2,3,4,5]}\n",
    "print(myDict)"
   ]
  },
  {
   "cell_type": "markdown",
   "id": "d43f882c-2031-467d-b5dd-4f41f5b3ada9",
   "metadata": {},
   "source": [
    "## Tuple\n",
    "Python Tuple is a collection of Python objects much like a list but Tuples are immutable in nature i.e. the elements in the tuple cannot be added or removed once created. Just like a List, a Tuple can also contain elements of various types."
   ]
  },
  {
   "cell_type": "code",
   "execution_count": 9,
   "id": "1ee6c3e2-6467-46b6-afdd-b6019cdb8803",
   "metadata": {},
   "outputs": [
    {
     "name": "stdout",
     "output_type": "stream",
     "text": [
      "\n",
      "Tuple with the use of String: \n",
      "('Yarushah', 'For')\n",
      "\n",
      "Tuple using List: \n",
      "First element of tuple\n",
      "1\n",
      "\n",
      "Last element of tuple\n",
      "6\n",
      "\n",
      "Third last element of tuple\n",
      "4\n"
     ]
    }
   ],
   "source": [
    "# Creating a Tuple with\n",
    "# the use of Strings\n",
    "Tuple = ('Yarushah', 'For')\n",
    "print(\"\\nTuple with the use of String: \")\n",
    "print(Tuple)\n",
    "     \n",
    "# Creating a Tuple with\n",
    "# the use of list\n",
    "list1 = [1, 2, 4, 5, 6]\n",
    "print(\"\\nTuple using List: \")\n",
    "Tuple = tuple(list1)\n",
    " \n",
    "# Accessing element using indexing\n",
    "print(\"First element of tuple\")\n",
    "print(Tuple[0])\n",
    " \n",
    "# Accessing element from last\n",
    "# negative indexing\n",
    "print(\"\\nLast element of tuple\")\n",
    "print(Tuple[-1])\n",
    "   \n",
    "print(\"\\nThird last element of tuple\")\n",
    "print(Tuple[-3])"
   ]
  },
  {
   "cell_type": "code",
   "execution_count": 5,
   "id": "ea3ccb27-a217-4cd3-9000-1678d834f792",
   "metadata": {},
   "outputs": [],
   "source": [
    "##Creating a contact management system it adds a contact, removes a contact, \n",
    "##search for a contact, display all contacts, checks for the duplicates as well.\n"
   ]
  },
  {
   "cell_type": "code",
   "execution_count": 3,
   "id": "a517943d-2e50-4a2b-b1ed-517f83169a58",
   "metadata": {},
   "outputs": [
    {
     "name": "stdout",
     "output_type": "stream",
     "text": [
      "\n",
      "Contact Management System\n",
      "1. Add Contact\n",
      "2. Remove Contact\n",
      "3. Search Contact\n",
      "4. Display All Contacts\n",
      "5. Check for Duplicates\n",
      "6. Exit\n"
     ]
    },
    {
     "name": "stdin",
     "output_type": "stream",
     "text": [
      "Enter your choice:  1\n",
      "Enter contact name:  Yarushah\n",
      "Enter contact phone:  039847282\n",
      "Enter contact email:  yarushahesardar@gmail.com\n"
     ]
    },
    {
     "name": "stdout",
     "output_type": "stream",
     "text": [
      "Contact Yarushah added successfully.\n",
      "\n",
      "Contact Management System\n",
      "1. Add Contact\n",
      "2. Remove Contact\n",
      "3. Search Contact\n",
      "4. Display All Contacts\n",
      "5. Check for Duplicates\n",
      "6. Exit\n"
     ]
    },
    {
     "name": "stdin",
     "output_type": "stream",
     "text": [
      "Enter your choice:  1\n",
      "Enter contact name:  Rohab\n",
      "Enter contact phone:  0392738404\n",
      "Enter contact email:  rohab@gmail.com\n"
     ]
    },
    {
     "name": "stdout",
     "output_type": "stream",
     "text": [
      "Contact Rohab added successfully.\n",
      "\n",
      "Contact Management System\n",
      "1. Add Contact\n",
      "2. Remove Contact\n",
      "3. Search Contact\n",
      "4. Display All Contacts\n",
      "5. Check for Duplicates\n",
      "6. Exit\n"
     ]
    },
    {
     "name": "stdin",
     "output_type": "stream",
     "text": [
      "Enter your choice:  1\n",
      "Enter contact name:  Laiba\n",
      "Enter contact phone:  084948920\n",
      "Enter contact email:  Laiba@gmail.com\n"
     ]
    },
    {
     "name": "stdout",
     "output_type": "stream",
     "text": [
      "Contact Laiba added successfully.\n",
      "\n",
      "Contact Management System\n",
      "1. Add Contact\n",
      "2. Remove Contact\n",
      "3. Search Contact\n",
      "4. Display All Contacts\n",
      "5. Check for Duplicates\n",
      "6. Exit\n"
     ]
    },
    {
     "name": "stdin",
     "output_type": "stream",
     "text": [
      "Enter your choice:  3\n",
      "Enter contact name to search:  Laiba\n"
     ]
    },
    {
     "name": "stdout",
     "output_type": "stream",
     "text": [
      "Name: Laiba, Phone: 084948920, Email: Laiba@gmail.com\n",
      "\n",
      "Contact Management System\n",
      "1. Add Contact\n",
      "2. Remove Contact\n",
      "3. Search Contact\n",
      "4. Display All Contacts\n",
      "5. Check for Duplicates\n",
      "6. Exit\n"
     ]
    },
    {
     "name": "stdin",
     "output_type": "stream",
     "text": [
      "Enter your choice:  4\n"
     ]
    },
    {
     "name": "stdout",
     "output_type": "stream",
     "text": [
      "Name: Yarushah, Phone: 039847282, Email: yarushahesardar@gmail.com\n",
      "Name: Rohab, Phone: 0392738404, Email: rohab@gmail.com\n",
      "Name: Laiba, Phone: 084948920, Email: Laiba@gmail.com\n",
      "\n",
      "Contact Management System\n",
      "1. Add Contact\n",
      "2. Remove Contact\n",
      "3. Search Contact\n",
      "4. Display All Contacts\n",
      "5. Check for Duplicates\n",
      "6. Exit\n"
     ]
    },
    {
     "name": "stdin",
     "output_type": "stream",
     "text": [
      "Enter your choice:  5\n",
      "Enter phone number to check for duplicates:  Laiba\n"
     ]
    },
    {
     "name": "stdout",
     "output_type": "stream",
     "text": [
      "No duplicates found.\n",
      "\n",
      "Contact Management System\n",
      "1. Add Contact\n",
      "2. Remove Contact\n",
      "3. Search Contact\n",
      "4. Display All Contacts\n",
      "5. Check for Duplicates\n",
      "6. Exit\n"
     ]
    },
    {
     "name": "stdin",
     "output_type": "stream",
     "text": [
      "Enter your choice:  6\n"
     ]
    },
    {
     "name": "stdout",
     "output_type": "stream",
     "text": [
      "Exiting the program.\n"
     ]
    }
   ],
   "source": [
    "# Contact Management System\n",
    "\n",
    "def add_contact(contacts, name, phone, email):\n",
    "    if phone in [contact[0] for contact in contacts.values()]:\n",
    "        print(\"A contact with this phone number already exists.\")\n",
    "        return\n",
    "    contacts[name] = (phone, email)\n",
    "    print(f\"Contact {name} added successfully.\")\n",
    "\n",
    "def remove_contact(contacts, name):\n",
    "    if name in contacts:\n",
    "        del contacts[name]\n",
    "        print(f\"Contact {name} removed successfully.\")\n",
    "    else:\n",
    "        print(\"Contact not found.\")\n",
    "\n",
    "def search_contact(contacts, name):\n",
    "    contact = contacts.get(name)\n",
    "    if contact:\n",
    "        print(f\"Name: {name}, Phone: {contact[0]}, Email: {contact[1]}\")\n",
    "    else:\n",
    "        print(\"Contact not found.\")\n",
    "\n",
    "def display_all_contacts(contacts):\n",
    "    if not contacts:\n",
    "        print(\"No contacts found.\")\n",
    "    else:\n",
    "        for name, details in contacts.items():\n",
    "            print(f\"Name: {name}, Phone: {details[0]}, Email: {details[1]}\")\n",
    "\n",
    "def check_duplicates(contacts, phone):\n",
    "    for name, details in contacts.items():\n",
    "        if details[0] == phone:\n",
    "            print(f\"Duplicate found: Name: {name}, Phone: {details[0]}, Email: {details[1]}\")\n",
    "            return True\n",
    "    print(\"No duplicates found.\")\n",
    "    return False\n",
    "\n",
    "def main():\n",
    "    contacts = {}\n",
    "\n",
    "    while True:\n",
    "        print(\"\\nContact Management System\")\n",
    "        print(\"1. Add Contact\")\n",
    "        print(\"2. Remove Contact\")\n",
    "        print(\"3. Search Contact\")\n",
    "        print(\"4. Display All Contacts\")\n",
    "        print(\"5. Check for Duplicates\")\n",
    "        print(\"6. Exit\")\n",
    "\n",
    "        choice = input(\"Enter your choice: \")\n",
    "\n",
    "        if choice == \"1\":\n",
    "            name = input(\"Enter contact name: \")\n",
    "            phone = input(\"Enter contact phone: \")\n",
    "            email = input(\"Enter contact email: \")\n",
    "            add_contact(contacts, name, phone, email)\n",
    "        elif choice == \"2\":\n",
    "            name = input(\"Enter contact name to remove: \")\n",
    "            remove_contact(contacts, name)\n",
    "        elif choice == \"3\":\n",
    "            name = input(\"Enter contact name to search: \")\n",
    "            search_contact(contacts, name)\n",
    "        elif choice == \"4\":\n",
    "            display_all_contacts(contacts)\n",
    "        elif choice == \"5\":\n",
    "            phone = input(\"Enter phone number to check for duplicates: \")\n",
    "            check_duplicates(contacts, phone)\n",
    "        elif choice == \"6\":\n",
    "            print(\"Exiting the program.\")\n",
    "            break\n",
    "        else:\n",
    "            print(\"Invalid choice. Please try again.\")\n",
    "\n",
    "if __name__ == \"__main__\":\n",
    "    main()\n"
   ]
  }
 ],
 "metadata": {
  "kernelspec": {
   "display_name": "Python 3 (ipykernel)",
   "language": "python",
   "name": "python3"
  },
  "language_info": {
   "codemirror_mode": {
    "name": "ipython",
    "version": 3
   },
   "file_extension": ".py",
   "mimetype": "text/x-python",
   "name": "python",
   "nbconvert_exporter": "python",
   "pygments_lexer": "ipython3",
   "version": "3.11.7"
  }
 },
 "nbformat": 4,
 "nbformat_minor": 5
}
