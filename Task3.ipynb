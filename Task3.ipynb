{
 "cells": [
  {
   "cell_type": "code",
   "execution_count": 1,
   "id": "2cf2abbf-3be1-4430-bbe6-29cd5374187d",
   "metadata": {},
   "outputs": [
    {
     "name": "stdout",
     "output_type": "stream",
     "text": [
      "Hello World\n"
     ]
    }
   ],
   "source": [
    "\n",
    "\n",
    "print(\"Hello World\") "
   ]
  },
  {
   "cell_type": "code",
   "execution_count": 2,
   "id": "a36fc7d0-b85e-4730-94aa-93bfdfe673be",
   "metadata": {},
   "outputs": [
    {
     "name": "stdout",
     "output_type": "stream",
     "text": [
      "Fibonacci series up to 10 terms:\n",
      "[0, 1, 1, 2, 3, 5, 8, 13, 21, 34]\n"
     ]
    }
   ],
   "source": [
    "def fibonacci(n):\n",
    "    \"\"\"Generate a Fibonacci series up to the nth term.\"\"\"\n",
    "    fib_series = []\n",
    "    a, b = 0, 1\n",
    "    while len(fib_series) < n:\n",
    "        fib_series.append(a)\n",
    "        a, b = b, a + b\n",
    "    return fib_series\n",
    "\n",
    "# Example usage:\n",
    "n = 10  # Number of terms you want in the Fibonacci series\n",
    "print(f\"Fibonacci series up to {n} terms:\")\n",
    "print(fibonacci(n))\n",
    "\n"
   ]
  },
  {
   "cell_type": "markdown",
   "id": "e5242c7b-e71e-4446-baee-8237a3ad0f56",
   "metadata": {},
   "source": [
    "# Hello World 1\n",
    "## Hello World 2\n",
    "### Hello World 3\n",
    "#### Hello World 4\n"
   ]
  },
  {
   "cell_type": "markdown",
   "id": "9c97e469-ecc6-4e46-9b4d-7d2434c01e93",
   "metadata": {},
   "source": [
    "# Heading 1\n"
   ]
  },
  {
   "cell_type": "markdown",
   "id": "52347700-638e-483f-9d9f-2679434584f8",
   "metadata": {},
   "source": [
    "# <span style=\"color:red\">Heading 1</span>\r\n",
    "## <span style=\"color:blue\">Heading 2</span>\r\n",
    "### <span style=\"color:green\">Heading 3</span>\r\n",
    "#### <span style=\"color:purple\">Heading 4</span>\r\n",
    "##### <span style=\"color:orange\">Heading 5</span>\r\n",
    "###### <span style=\"color:brown\">Heading 6</span>\r\n"
   ]
  },
  {
   "cell_type": "markdown",
   "id": "ae7948b6-aba6-406f-973b-d57393820b81",
   "metadata": {},
   "source": [
    "### <span style=\"color:green\">Lists</span>\n",
    "- Bullet list item 1\n",
    "- Bullet list item 2\n",
    "\n",
    "1. Numbered list item 1\n",
    "2. Numbered list item 2"
   ]
  },
  {
   "cell_type": "markdown",
   "id": "5a22046d-deb3-43af-9e86-ef8b449b0016",
   "metadata": {},
   "source": [
    "<style>\r\n",
    "h1 {\r\n",
    "  color: red;\r\n",
    "}\r\n",
    "h2 {\r\n",
    "  color: blue;\r\n",
    "}\r\n",
    "h3 {\r\n",
    "  color: green;\r\n",
    "}\r\n",
    "h4 {\r\n",
    "  color: purple;\r\n",
    "}\r\n",
    "h5 {\r\n",
    "  color: orange;\r\n",
    "}\r\n",
    "h6 {\r\n",
    "  color: brown;\r\n",
    "}\r\n",
    "</style>\r\n"
   ]
  },
  {
   "cell_type": "markdown",
   "id": "b0879de2-96ab-4cbe-93bf-e2eda5f0d86a",
   "metadata": {},
   "source": [
    "### Quadratic Formula\r\n",
    "The solution to the quadratic equation \\( ax^2 + bx + c = 0 \\) is given by:\r\n",
    "$$\r\n",
    "x = \\frac{{-b \\pm \\sqrt{{b^2 - 4ac}}}}{{2a}}\r\n",
    "$$\r\n"
   ]
  },
  {
   "cell_type": "markdown",
   "id": "5ab605aa-f712-463c-8f30-97b2fc08575c",
   "metadata": {},
   "source": [
    "### Euler's Formula\n",
    "Euler's formula, a key formula in complex analysis, is:\n",
    "\n",
    "$$\n",
    "e^{i\\pi} + 1 = 0\n",
    "$$"
   ]
  }
 ],
 "metadata": {
  "kernelspec": {
   "display_name": "Python 3 (ipykernel)",
   "language": "python",
   "name": "python3"
  },
  "language_info": {
   "codemirror_mode": {
    "name": "ipython",
    "version": 3
   },
   "file_extension": ".py",
   "mimetype": "text/x-python",
   "name": "python",
   "nbconvert_exporter": "python",
   "pygments_lexer": "ipython3",
   "version": "3.11.7"
  }
 },
 "nbformat": 4,
 "nbformat_minor": 5
}
