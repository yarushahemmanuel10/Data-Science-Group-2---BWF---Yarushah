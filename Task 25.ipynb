{
 "cells": [
  {
   "cell_type": "markdown",
   "id": "2e83d986-84e1-4b68-9e8d-6b7f3e4b04ff",
   "metadata": {},
   "source": [
    "## Evaluation Metrics for Regression Models"
   ]
  },
  {
   "cell_type": "code",
   "execution_count": 11,
   "id": "943e1489-e4a6-4fb7-8b41-154e5ff6d453",
   "metadata": {},
   "outputs": [],
   "source": [
    "import numpy as np\n",
    "import pandas as pd\n",
    "from sklearn.linear_model import LinearRegression\n",
    "from sklearn.metrics import mean_absolute_error, mean_squared_error, r2_score, median_absolute_error\n",
    "\n",
    "data = {\n",
    "    'SquareFeet': [1500, 1800, 2000, 2200, 2500, 2700, 3000, 3200, 3500, 4000],\n",
    "    'NumBedrooms': [3, 4, 3, 5, 4, 5, 4, 6, 5, 6],\n",
    "    'Price': [300000, 350000, 400000, 450000, 500000, 550000, 600000, 650000, 700000, 750000]\n",
    "}\n",
    "df = pd.DataFrame(data)\n",
    "\n",
    "X = df[['SquareFeet', 'NumBedrooms']]\n",
    "Y = df['Price']\n",
    "\n",
    "model = LinearRegression()\n",
    "model.fit(X, Y)\n",
    "\n",
    "Y_pred = model.predict(X)\n",
    "\n"
   ]
  },
  {
   "cell_type": "markdown",
   "id": "31739618-6f83-483b-b21f-bdecd31347b4",
   "metadata": {},
   "source": [
    "### Mean Absolute Error (MAE)\n",
    "\n",
    "**Definition**: The average of the absolute errors between predicted and actual values.\n",
    "\n",
    "**Interpretation**: Provides a straightforward measure of average error, easy to understand and interpret."
   ]
  },
  {
   "cell_type": "code",
   "execution_count": 4,
   "id": "09a59637-58f3-4bb4-bfeb-46de4f508dc0",
   "metadata": {},
   "outputs": [
    {
     "data": {
      "text/plain": [
       "11612.613421974675"
      ]
     },
     "execution_count": 4,
     "metadata": {},
     "output_type": "execute_result"
    }
   ],
   "source": [
    "mae = mean_absolute_error(Y, Y_pred)\n",
    "mae"
   ]
  },
  {
   "cell_type": "markdown",
   "id": "016b6010-7f36-4eb5-af4e-9f02cd6b491e",
   "metadata": {},
   "source": [
    "### Mean Squared Error (MSE)\n",
    "\n",
    "**Definition**: The average of the squared differences between predicted and actual values.\n",
    "\n",
    "**Interpretation**: Penalizes larger errors more than smaller ones due to the squaring of errors.\n",
    "\n"
   ]
  },
  {
   "cell_type": "code",
   "execution_count": 6,
   "id": "4edd5de5-9392-4de5-831b-cc6c1671ca84",
   "metadata": {},
   "outputs": [
    {
     "data": {
      "text/plain": [
       "214446141.40688127"
      ]
     },
     "execution_count": 6,
     "metadata": {},
     "output_type": "execute_result"
    }
   ],
   "source": [
    "mse = mean_squared_error(Y, Y_pred)\n",
    "mse"
   ]
  },
  {
   "cell_type": "markdown",
   "id": "919bfeb1-0271-4b5c-bcdd-350cae966ea4",
   "metadata": {},
   "source": [
    "### Root Mean Squared Error (RMSE)\n",
    "\n",
    "**Definition**: The square root of the average of the squared differences between predicted and actual values.\n",
    "\n",
    "**Interpretation**: Provides error estimates in the same units as the target variable, which is often useful for interpretation.\n"
   ]
  },
  {
   "cell_type": "code",
   "execution_count": 7,
   "id": "7ac64539-9e34-4e76-9561-ff427e701759",
   "metadata": {},
   "outputs": [
    {
     "data": {
      "text/plain": [
       "14643.979698390778"
      ]
     },
     "execution_count": 7,
     "metadata": {},
     "output_type": "execute_result"
    }
   ],
   "source": [
    "rmse = np.sqrt(mse)\n",
    "rmse"
   ]
  },
  {
   "cell_type": "markdown",
   "id": "0699e986-1f16-4de0-9d7d-afb68454df6d",
   "metadata": {},
   "source": [
    "### R-squared (R²)\n",
    "\n",
    "**Definition**: The proportion of the variance in the dependent variable that is predictable from the independent variables.\n",
    "\n",
    "**Interpretation**: Indicates how well the model explains the variability of the target variable. Values range from 0 to 1.\n"
   ]
  },
  {
   "cell_type": "code",
   "execution_count": 8,
   "id": "115c378d-ed94-4a3c-bed2-50f1ba9f71eb",
   "metadata": {},
   "outputs": [
    {
     "data": {
      "text/plain": [
       "0.989602611325727"
      ]
     },
     "execution_count": 8,
     "metadata": {},
     "output_type": "execute_result"
    }
   ],
   "source": [
    "r2= r2_score(Y, Y_pred)\n",
    "r2"
   ]
  },
  {
   "cell_type": "markdown",
   "id": "58b73cad-128d-4404-9315-a954d1d2f9c8",
   "metadata": {},
   "source": [
    "### Median Absolute Error\n",
    "\n",
    "**Definition**: The median of the absolute errors between predicted and actual values.\n",
    "\n",
    "**Interpretation**: Robust to outliers and provides a measure of central tendency of the errors."
   ]
  },
  {
   "cell_type": "code",
   "execution_count": 10,
   "id": "51b74247-530b-4063-8270-e57d98939c86",
   "metadata": {},
   "outputs": [
    {
     "data": {
      "text/plain": [
       "11135.567334471329"
      ]
     },
     "execution_count": 10,
     "metadata": {},
     "output_type": "execute_result"
    }
   ],
   "source": [
    "median_ae = median_absolute_error(Y, Y_pred)\n",
    "median_ae\n"
   ]
  },
  {
   "cell_type": "markdown",
   "id": "7f48b509-adf7-409a-8cef-2f5023877a68",
   "metadata": {},
   "source": [
    "### Adjusted R-squared\n",
    "\n",
    "**Definition**: Adjusts the R-squared value to account for the number of predictors in the model.\n",
    "\n",
    "\n",
    "**Interpretation**: Useful for comparing models with different numbers of predictors.\n"
   ]
  },
  {
   "cell_type": "code",
   "execution_count": 13,
   "id": "2ce5fc34-dd73-4a38-b226-ba9bf68c9bbe",
   "metadata": {},
   "outputs": [
    {
     "ename": "NameError",
     "evalue": "name 'mean_absolute_percentage_error' is not defined",
     "output_type": "error",
     "traceback": [
      "\u001b[0;31m---------------------------------------------------------------------------\u001b[0m",
      "\u001b[0;31mNameError\u001b[0m                                 Traceback (most recent call last)",
      "Cell \u001b[0;32mIn[13], line 1\u001b[0m\n\u001b[0;32m----> 1\u001b[0m mape \u001b[38;5;241m=\u001b[39m \u001b[43mmean_absolute_percentage_error\u001b[49m(Y, Y_pred) \u001b[38;5;241m*\u001b[39m \u001b[38;5;241m100\u001b[39m\n\u001b[1;32m      2\u001b[0m mape\n",
      "\u001b[0;31mNameError\u001b[0m: name 'mean_absolute_percentage_error' is not defined"
     ]
    }
   ],
   "source": [
    "mape = mean_absolute_percentage_error(Y, Y_pred) * 100\n",
    "mape"
   ]
  },
  {
   "cell_type": "code",
   "execution_count": null,
   "id": "7a6fda37-e9f9-4c61-8a01-55f76372ede2",
   "metadata": {},
   "outputs": [],
   "source": []
  }
 ],
 "metadata": {
  "kernelspec": {
   "display_name": "anaconda-2024.02-py310",
   "language": "python",
   "name": "conda-env-anaconda-2024.02-py310-py"
  },
  "language_info": {
   "codemirror_mode": {
    "name": "ipython",
    "version": 3
   },
   "file_extension": ".py",
   "mimetype": "text/x-python",
   "name": "python",
   "nbconvert_exporter": "python",
   "pygments_lexer": "ipython3",
   "version": "3.10.14"
  }
 },
 "nbformat": 4,
 "nbformat_minor": 5
}
