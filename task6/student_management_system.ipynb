{
 "cells": [
  {
   "cell_type": "code",
   "execution_count": null,
   "id": "4f226855-eee0-4564-aeea-f1e48d38034b",
   "metadata": {},
   "outputs": [
    {
     "name": "stdout",
     "output_type": "stream",
     "text": [
      "/nStudent Management System\n",
      "1. Add Student\n",
      "2. Search Student\n",
      "3. Delete Student\n",
      "4. List Students\n",
      "5. Exit\n"
     ]
    },
    {
     "name": "stdin",
     "output_type": "stream",
     "text": [
      "Enter your choice:  2\n",
      "Enter the student ID to search for:  4\n"
     ]
    },
    {
     "name": "stdout",
     "output_type": "stream",
     "text": [
      "Student not found.\n",
      "/nStudent Management System\n",
      "1. Add Student\n",
      "2. Search Student\n",
      "3. Delete Student\n",
      "4. List Students\n",
      "5. Exit\n"
     ]
    }
   ],
   "source": [
    "import os\n",
    "\n",
    "def loading_students(file_path):\n",
    "    students={}\n",
    "    if not os.path.exists(file_path):\n",
    "        return students\n",
    "    try:\n",
    "        with open(file_path, 'r') as file:\n",
    "            for line in file:\n",
    "                line=line.strip()\n",
    "                if line:\n",
    "                    student_id, student_name, student_age, student_grade= line.split(\",\")\n",
    "                    students[student_id]={'student_name': student_name, \"student_age\": student_age, \"student_grade\": student_grade}\n",
    "    except Exception as e:\n",
    "        print(\"Error reading file: \", e)\n",
    "def saving_students(file_path, students):\n",
    "    try:\n",
    "        with open(file_path, \"r\") as file:\n",
    "            for student_id, student in students.items():\n",
    "                file.write(f\"{student_id},{student['student_name']},{student['student_age']},{student['student_grade']}\\n\")\n",
    "    except Exception as e:\n",
    "        print(\"Error writing file: \", e)\n",
    "def add_student(students):\n",
    "    student_id=int(input(\"Enter student ID: \"))\n",
    "    if student_id in students:\n",
    "        print(\"Error: The student already exists\")\n",
    "        return\n",
    "    student_name=str(input(\"Enter student name: \"))\n",
    "    student_age= str(input(\"Enter student age: \"))\n",
    "    student_grade= str(input(\"Enter student grade: \"))\n",
    "\n",
    "    students[student_id]={ 'student_name': student_name,\n",
    "        'student_age': student_age,\n",
    "        'student_grade': student_grade}\n",
    "    print(\"Students entered successfully.\")\n",
    "\n",
    "def search_student(students):\n",
    "    student_id= int(input(\"Enter the student ID to search for: \"))\n",
    "    student= students.get(student_id)\n",
    "    if student:\n",
    "        print(f\"Found student: ID={student_id}, Name={student['student_name']}, Age={student['student_age']}, Grade={student['student_grade']}\")\n",
    "    else:\n",
    "        print(\"Student not found.\")\n",
    "def delete_student(students):\n",
    "    student_id=int(input(\"Enter the student ID you want to delete\"))\n",
    "    if student_id in students:\n",
    "        del students[student_id]\n",
    "        print(\"Student deleted successfully.\")\n",
    "    else:\n",
    "        print(\"Student not found\")\n",
    "def list_student(students):\n",
    "    if not students:\n",
    "        print(\"No student found.\")\n",
    "    else:\n",
    "         for student_id, student in students.items():\n",
    "            print(f\"ID={student_id}, Name={student['student_name']}, Age={student['student_age']}, Grade={student['student_grade']}\")\n",
    "\n",
    "def main():\n",
    "    file_path=\"student.txt\"\n",
    "    students=loading_students(file_path)\n",
    "    while True:\n",
    "        print(\"/nStudent Management System\")\n",
    "        print(\"1. Add Student\")\n",
    "        print(\"2. Search Student\")\n",
    "        print(\"3. Delete Student\")\n",
    "        print(\"4. List Students\")\n",
    "        print(\"5. Exit\")\n",
    "\n",
    "        choice = input(\"Enter your choice: \")\n",
    "        if choice == \"1\":\n",
    "            add_student(students)\n",
    "        elif choice == \"2\":\n",
    "            search_student(students)\n",
    "        elif choice == \"3\":\n",
    "            delete_student(students)\n",
    "        elif choice == \"4\":\n",
    "            list_students(students)\n",
    "        elif choice == \"5\":\n",
    "            save_students(file_path, students)\n",
    "            print(\"Exiting the program.\")\n",
    "            break\n",
    "        else:\n",
    "            print(\"Invalid choice. Please try again.\")\n",
    "\n",
    "if __name__ == \"__main__\":\n",
    "    main()"
   ]
  },
  {
   "cell_type": "code",
   "execution_count": null,
   "id": "54162911-3b85-4b4a-b71d-1357b4ff9210",
   "metadata": {},
   "outputs": [],
   "source": []
  }
 ],
 "metadata": {
  "kernelspec": {
   "display_name": "Python 3 (ipykernel)",
   "language": "python",
   "name": "python3"
  },
  "language_info": {
   "codemirror_mode": {
    "name": "ipython",
    "version": 3
   },
   "file_extension": ".py",
   "mimetype": "text/x-python",
   "name": "python",
   "nbconvert_exporter": "python",
   "pygments_lexer": "ipython3",
   "version": "3.11.7"
  }
 },
 "nbformat": 4,
 "nbformat_minor": 5
}
