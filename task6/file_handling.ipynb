{
 "cells": [
  {
   "cell_type": "markdown",
   "id": "673bbd35-bf4d-4a44-8a35-142ceb37ee1f",
   "metadata": {},
   "source": [
    "### **1. File Handling**\r\n",
    "The key function for working with files in Python is the open() function\r\n",
    "\r\n",
    "The open() function takes two parameters; filename, and m\n",
    "There are four different methods (modes) for opening a file:\r\n",
    "\r\n",
    "\"r\" - Read - Default value. Opens a file for reading, error if the file does not exist\r\n",
    "\r\n",
    "\"a\" - Append - Opens a file for appending, creates the file if it does not exist\r\n",
    "\r\n",
    "\"w\" - Write - Opens a file for writing, creates the file if it does not exist\r\n",
    "\r\n",
    "\"x\" - Create - Creates the specified file, returns an error if the file existso\n",
    "de."
   ]
  },
  {
   "cell_type": "code",
   "execution_count": 5,
   "id": "146ca2b2-8528-45a9-8b17-b1dbd5466b56",
   "metadata": {},
   "outputs": [],
   "source": [
    "f= open('demofile.txt',\"rt\")\n"
   ]
  },
  {
   "cell_type": "code",
   "execution_count": 6,
   "id": "b7f59d00-eb13-42b5-9f66-378ba8b23896",
   "metadata": {},
   "outputs": [
    {
     "data": {
      "text/plain": [
       "'Hellooo!!!!'"
      ]
     },
     "execution_count": 6,
     "metadata": {},
     "output_type": "execute_result"
    }
   ],
   "source": [
    "f.read()"
   ]
  },
  {
   "cell_type": "markdown",
   "id": "0bc7f0cd-77fc-4293-b758-3a65ea0c1639",
   "metadata": {},
   "source": [
    "### **Read Only Parts of the File**\r\n",
    "By default the read() method returns the whole text, but you can also specify how many characters you want to return:\n"
   ]
  },
  {
   "cell_type": "code",
   "execution_count": 9,
   "id": "d3d2c9b7-4d40-41f1-a922-a644ece4d0bc",
   "metadata": {},
   "outputs": [
    {
     "name": "stdout",
     "output_type": "stream",
     "text": [
      "Hello\n"
     ]
    }
   ],
   "source": [
    "f=open(\"demofile.txt\",\"r\")\n",
    "print(f.read(5))"
   ]
  },
  {
   "cell_type": "code",
   "execution_count": 10,
   "id": "f296671d-646d-4e07-90f8-bc8c05e3f912",
   "metadata": {},
   "outputs": [
    {
     "data": {
      "text/plain": [
       "'Hellooo!!!!\\n'"
      ]
     },
     "execution_count": 10,
     "metadata": {},
     "output_type": "execute_result"
    }
   ],
   "source": [
    "f=open(\"demofile.txt\", \"r\")\n",
    "f.readline()"
   ]
  },
  {
   "cell_type": "code",
   "execution_count": 11,
   "id": "f01d7012-7d28-4c4e-b18c-e7e2029bcf5c",
   "metadata": {},
   "outputs": [
    {
     "data": {
      "text/plain": [
       "'I am a demo file \\n'"
      ]
     },
     "execution_count": 11,
     "metadata": {},
     "output_type": "execute_result"
    }
   ],
   "source": [
    "f=open(\"demofile.txt\", \"r\")\n",
    "f.readline()\n",
    "f.readline()"
   ]
  },
  {
   "cell_type": "code",
   "execution_count": 13,
   "id": "63c749e9-7c3d-417f-80dc-2f911a907bf9",
   "metadata": {},
   "outputs": [
    {
     "name": "stdout",
     "output_type": "stream",
     "text": [
      "Hellooo!!!!\n",
      "\n",
      "I am a demo file \n",
      "\n",
      "for the testing purpose\n",
      "\n",
      "I am being tested\n"
     ]
    }
   ],
   "source": [
    "f=open(\"demofile.txt\", \"r\")\n",
    "for x in f:\n",
    "    print(x)"
   ]
  },
  {
   "cell_type": "code",
   "execution_count": 14,
   "id": "8d8f1050-9c32-4b3d-a05e-281eab9f843a",
   "metadata": {},
   "outputs": [],
   "source": [
    "f=open(\"demofile.txt\", \"r\")\n",
    "f.readline()\n",
    "f.close()"
   ]
  },
  {
   "cell_type": "code",
   "execution_count": 16,
   "id": "f5422fd6-47d2-45c4-8409-d33d813165b6",
   "metadata": {},
   "outputs": [],
   "source": [
    "f=open(\"demofile2.txt\", \"a\")\n",
    "f.write(\"Now the file has more content!!\")\n",
    "f.close()\n"
   ]
  },
  {
   "cell_type": "code",
   "execution_count": 19,
   "id": "0410dcdd-d678-48d8-b275-40420d58b9e8",
   "metadata": {},
   "outputs": [
    {
     "data": {
      "text/plain": [
       "'Now the file has more content!!'"
      ]
     },
     "execution_count": 19,
     "metadata": {},
     "output_type": "execute_result"
    }
   ],
   "source": [
    "f=open(\"demofile2.txt\", \"r\")\n",
    "f.read()"
   ]
  },
  {
   "cell_type": "markdown",
   "id": "efa7146c-b1de-4bd0-b295-cbbee59d9fe5",
   "metadata": {},
   "source": [
    "### **Create a New File**\r\n",
    "To create a new file in Python, use the open() method, with one of the following parameters:\r\n",
    "\r\n",
    "\"x\" - Create - will create a file, returns an error if the file exist\r\n",
    "\r\n",
    "\"a\" - Append - will create a file if the specified file does not exist\r\n",
    "\r\n",
    "\"w\" - Write - will create a file if the specified file does not exist"
   ]
  },
  {
   "cell_type": "code",
   "execution_count": 20,
   "id": "f2b71bca-b221-45ac-bb13-3cd017b1e8c6",
   "metadata": {},
   "outputs": [],
   "source": [
    "f = open(\"myfile.txt\", \"x\")"
   ]
  },
  {
   "cell_type": "code",
   "execution_count": 21,
   "id": "d5919e86-64c4-46d1-94a3-6dc171b70d97",
   "metadata": {},
   "outputs": [
    {
     "ename": "FileExistsError",
     "evalue": "[Errno 17] File exists: 'demofile.txt'",
     "output_type": "error",
     "traceback": [
      "\u001b[1;31m---------------------------------------------------------------------------\u001b[0m",
      "\u001b[1;31mFileExistsError\u001b[0m                           Traceback (most recent call last)",
      "Cell \u001b[1;32mIn[21], line 1\u001b[0m\n\u001b[1;32m----> 1\u001b[0m f \u001b[38;5;241m=\u001b[39m \u001b[38;5;28mopen\u001b[39m(\u001b[38;5;124m\"\u001b[39m\u001b[38;5;124mdemofile.txt\u001b[39m\u001b[38;5;124m\"\u001b[39m, \u001b[38;5;124m\"\u001b[39m\u001b[38;5;124mx\u001b[39m\u001b[38;5;124m\"\u001b[39m)\n",
      "File \u001b[1;32m~\\anaconda3\\Lib\\site-packages\\IPython\\core\\interactiveshell.py:310\u001b[0m, in \u001b[0;36m_modified_open\u001b[1;34m(file, *args, **kwargs)\u001b[0m\n\u001b[0;32m    303\u001b[0m \u001b[38;5;28;01mif\u001b[39;00m file \u001b[38;5;129;01min\u001b[39;00m {\u001b[38;5;241m0\u001b[39m, \u001b[38;5;241m1\u001b[39m, \u001b[38;5;241m2\u001b[39m}:\n\u001b[0;32m    304\u001b[0m     \u001b[38;5;28;01mraise\u001b[39;00m \u001b[38;5;167;01mValueError\u001b[39;00m(\n\u001b[0;32m    305\u001b[0m         \u001b[38;5;124mf\u001b[39m\u001b[38;5;124m\"\u001b[39m\u001b[38;5;124mIPython won\u001b[39m\u001b[38;5;124m'\u001b[39m\u001b[38;5;124mt let you open fd=\u001b[39m\u001b[38;5;132;01m{\u001b[39;00mfile\u001b[38;5;132;01m}\u001b[39;00m\u001b[38;5;124m by default \u001b[39m\u001b[38;5;124m\"\u001b[39m\n\u001b[0;32m    306\u001b[0m         \u001b[38;5;124m\"\u001b[39m\u001b[38;5;124mas it is likely to crash IPython. If you know what you are doing, \u001b[39m\u001b[38;5;124m\"\u001b[39m\n\u001b[0;32m    307\u001b[0m         \u001b[38;5;124m\"\u001b[39m\u001b[38;5;124myou can use builtins\u001b[39m\u001b[38;5;124m'\u001b[39m\u001b[38;5;124m open.\u001b[39m\u001b[38;5;124m\"\u001b[39m\n\u001b[0;32m    308\u001b[0m     )\n\u001b[1;32m--> 310\u001b[0m \u001b[38;5;28;01mreturn\u001b[39;00m io_open(file, \u001b[38;5;241m*\u001b[39margs, \u001b[38;5;241m*\u001b[39m\u001b[38;5;241m*\u001b[39mkwargs)\n",
      "\u001b[1;31mFileExistsError\u001b[0m: [Errno 17] File exists: 'demofile.txt'"
     ]
    }
   ],
   "source": [
    "f = open(\"demofile.txt\", \"x\")"
   ]
  },
  {
   "cell_type": "code",
   "execution_count": 22,
   "id": "9683bfbf-0885-4bdd-8bc8-55b8ad331eb8",
   "metadata": {},
   "outputs": [],
   "source": [
    "import os\n",
    "os.remove(\"demofile.txt\")"
   ]
  },
  {
   "cell_type": "code",
   "execution_count": 23,
   "id": "63565a33-bbef-4f31-8ac8-a7195b5da286",
   "metadata": {},
   "outputs": [
    {
     "name": "stdout",
     "output_type": "stream",
     "text": [
      "The file does not exist\n"
     ]
    }
   ],
   "source": [
    "import os\n",
    "if os.path.exists(\"demofile.txt\"):\n",
    "    os.remove(\"demofile.txt\")\n",
    "\n",
    "else:\n",
    "    print(\"The file does not exist\")\n"
   ]
  },
  {
   "cell_type": "code",
   "execution_count": null,
   "id": "bc77509c-7042-41bb-8f8b-e076c78cafe0",
   "metadata": {},
   "outputs": [],
   "source": []
  }
 ],
 "metadata": {
  "kernelspec": {
   "display_name": "Python 3 (ipykernel)",
   "language": "python",
   "name": "python3"
  },
  "language_info": {
   "codemirror_mode": {
    "name": "ipython",
    "version": 3
   },
   "file_extension": ".py",
   "mimetype": "text/x-python",
   "name": "python",
   "nbconvert_exporter": "python",
   "pygments_lexer": "ipython3",
   "version": "3.11.7"
  }
 },
 "nbformat": 4,
 "nbformat_minor": 5
}
