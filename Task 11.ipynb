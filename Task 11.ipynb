{
 "cells": [
  {
   "cell_type": "markdown",
   "id": "f3330053-fe0d-4339-9ab5-cca76d0560db",
   "metadata": {},
   "source": [
    "## Index and Slicing"
   ]
  },
  {
   "cell_type": "markdown",
   "id": "22164305-078f-4f1a-b48c-5a9036a57404",
   "metadata": {},
   "source": [
    "#### Given a 2D array of shape (5, 5), extract a 3x3 sub-array starting from the element at position (1, 1)."
   ]
  },
  {
   "cell_type": "code",
   "execution_count": 2,
   "id": "fd19bbef-9885-4cf8-ab9f-08a449027484",
   "metadata": {},
   "outputs": [
    {
     "name": "stdout",
     "output_type": "stream",
     "text": [
      "Original 2D Array:\n",
      "[[5 8 0 5 9]\n",
      " [4 4 1 1 9]\n",
      " [6 6 7 3 5]\n",
      " [8 5 7 8 7]\n",
      " [6 9 4 7 1]]\n",
      "\n",
      "3x3 Sub-array starting from (1, 1):\n",
      "[[4 1 1]\n",
      " [6 7 3]\n",
      " [5 7 8]]\n"
     ]
    }
   ],
   "source": [
    "import numpy as np\n",
    "\n",
    "\n",
    "arr_2d = np.random.randint(0, 10, size=(5, 5))\n",
    "print(\"Original 2D Array:\")\n",
    "print(arr_2d)\n",
    "\n",
    "sub_array = arr_2d[1:4, 1:4]\n",
    "print(\"\\n3x3 Sub-array starting from (1, 1):\")\n",
    "print(sub_array)\n"
   ]
  },
  {
   "cell_type": "markdown",
   "id": "e48ef0a9-7ec6-4fcb-ba10-bcd43d44e60f",
   "metadata": {},
   "source": [
    "#### From a 3D array of shape (4, 3, 2), extract all elements in the first two rows and all columns of the second slice along the third axis."
   ]
  },
  {
   "cell_type": "code",
   "execution_count": 3,
   "id": "1115b55e-d581-49a3-975f-867cfa37b486",
   "metadata": {},
   "outputs": [
    {
     "name": "stdout",
     "output_type": "stream",
     "text": [
      "\n",
      "Original 3D Array:\n",
      "[[[2 0]\n",
      "  [5 1]\n",
      "  [8 3]]\n",
      "\n",
      " [[6 4]\n",
      "  [0 4]\n",
      "  [4 8]]\n",
      "\n",
      " [[2 6]\n",
      "  [7 2]\n",
      "  [0 1]]\n",
      "\n",
      " [[4 0]\n",
      "  [5 9]\n",
      "  [0 9]]]\n",
      "\n",
      "Extracted elements:\n",
      "[[0 1 3]\n",
      " [4 4 8]]\n"
     ]
    }
   ],
   "source": [
    "\n",
    "arr_3d = np.random.randint(0, 10, size=(4, 3, 2))\n",
    "print(\"\\nOriginal 3D Array:\")\n",
    "print(arr_3d)\n",
    "\n",
    "extracted = arr_3d[:2, :, 1]\n",
    "print(\"\\nExtracted elements:\")\n",
    "print(extracted)\n"
   ]
  },
  {
   "cell_type": "markdown",
   "id": "4dd6131c-d37c-47bc-ac2a-bcb653ded24e",
   "metadata": {},
   "source": [
    "#### Given an array of integers, use fancy indexing to extract elements at positions [1, 3, 4, 7]."
   ]
  },
  {
   "cell_type": "code",
   "execution_count": 5,
   "id": "1e7c000f-8994-42e0-9d2f-b4094c3ca34b",
   "metadata": {},
   "outputs": [
    {
     "name": "stdout",
     "output_type": "stream",
     "text": [
      "\n",
      "Extracted elements:\n",
      "[20 40 50 80]\n"
     ]
    }
   ],
   "source": [
    "\n",
    "arr_int = np.array([10, 20, 30, 40, 50, 60, 70, 80])\n",
    "\n",
    "extracted_elements = arr_int[[1, 3, 4, 7]]\n",
    "print(\"\\nExtracted elements:\")\n",
    "print(extracted_elements)\n"
   ]
  },
  {
   "cell_type": "markdown",
   "id": "11465c90-840d-418e-88a4-08edbefe9915",
   "metadata": {},
   "source": [
    "#### Given a 2D array, use fancy indexing to select rows [0, 2, 3] and columns [1, 3]."
   ]
  },
  {
   "cell_type": "code",
   "execution_count": 7,
   "id": "d69696b2-5e30-4bed-a1f1-ccb2e351341b",
   "metadata": {},
   "outputs": [
    {
     "name": "stdout",
     "output_type": "stream",
     "text": [
      "\n",
      "Original 2D Array:\n",
      "[[13  7  6 11  8]\n",
      " [10  2 17 12 15]\n",
      " [19 17  5 19 14]\n",
      " [13 19 12 16 19]\n",
      " [ 5  5  2 18  8]]\n",
      "\n",
      "Selected rows and columns:\n",
      "[[ 7 11]\n",
      " [17 19]\n",
      " [19 16]]\n"
     ]
    }
   ],
   "source": [
    "\n",
    "arr_2d = np.random.randint(0, 20, size=(5, 5))\n",
    "print(\"\\nOriginal 2D Array:\")\n",
    "print(arr_2d)\n",
    "\n",
    "selected = arr_2d[[0, 2, 3]][:, [1, 3]]\n",
    "print(\"\\nSelected rows and columns:\")\n",
    "print(selected)\n"
   ]
  },
  {
   "cell_type": "markdown",
   "id": "af1f97eb-07ab-43c8-b0f1-d6783c645966",
   "metadata": {},
   "source": [
    "#### From a 1D array of random integers, extract all elements that are greater than 10."
   ]
  },
  {
   "cell_type": "code",
   "execution_count": 8,
   "id": "6612a3c4-8036-4319-a6c9-cdac1db62a1e",
   "metadata": {},
   "outputs": [
    {
     "name": "stdout",
     "output_type": "stream",
     "text": [
      "\n",
      "Original 1D Array:\n",
      "[14 17 12 18 13  6  3  6 10 13]\n",
      "\n",
      "Elements greater than 10:\n",
      "[14 17 12 18 13 13]\n"
     ]
    }
   ],
   "source": [
    "\n",
    "arr_1d = np.random.randint(0, 20, size=10)\n",
    "print(\"\\nOriginal 1D Array:\")\n",
    "print(arr_1d)\n",
    "\n",
    "extracted_greater_than_10 = arr_1d[arr_1d > 10]\n",
    "print(\"\\nElements greater than 10:\")\n",
    "print(extracted_greater_than_10)\n"
   ]
  },
  {
   "cell_type": "markdown",
   "id": "36a6f536-436b-4e32-925a-99fdcf02f242",
   "metadata": {},
   "source": [
    "#### Given a 2D array of shape (5, 5), replace all elements greater than 15 with the value 0."
   ]
  },
  {
   "cell_type": "code",
   "execution_count": 9,
   "id": "9d6e9852-5a94-4231-bb1f-536bd2667b6b",
   "metadata": {},
   "outputs": [
    {
     "name": "stdout",
     "output_type": "stream",
     "text": [
      "\n",
      "Original 2D Array:\n",
      "[[ 8  3 17  0  7]\n",
      " [18 13 14  9 17]\n",
      " [ 5 13 18 11  5]\n",
      " [14 15  3 11  5]\n",
      " [ 9  2  8  5 10]]\n",
      "\n",
      "Modified Array with elements > 15 replaced with 0:\n",
      "[[ 8  3  0  0  7]\n",
      " [ 0 13 14  9  0]\n",
      " [ 5 13  0 11  5]\n",
      " [14 15  3 11  5]\n",
      " [ 9  2  8  5 10]]\n"
     ]
    }
   ],
   "source": [
    "\n",
    "arr_2d = np.random.randint(0, 20, size=(5, 5))\n",
    "print(\"\\nOriginal 2D Array:\")\n",
    "print(arr_2d)\n",
    "\n",
    "arr_2d[arr_2d > 15] = 0\n",
    "print(\"\\nModified Array with elements > 15 replaced with 0:\")\n",
    "print(arr_2d)\n"
   ]
  },
  {
   "cell_type": "markdown",
   "id": "51e47239-959c-4197-8791-16b39058b724",
   "metadata": {},
   "source": [
    "## Broadcasting"
   ]
  },
  {
   "cell_type": "markdown",
   "id": "c28ba800-8324-4aec-96ba-dd18ed3c5c19",
   "metadata": {},
   "source": [
    "#### Add a 1D array of shape (3,) to each row of a 2D array of shape (4, 3).\n",
    "\n",
    "\n"
   ]
  },
  {
   "cell_type": "code",
   "execution_count": 13,
   "id": "85a8d87a-10be-4203-a3dd-61b9a0b85f5a",
   "metadata": {},
   "outputs": [
    {
     "name": "stdout",
     "output_type": "stream",
     "text": [
      "Original 2D Array:\n",
      "[[2 1 5]\n",
      " [7 7 9]\n",
      " [1 2 7]\n",
      " [8 0 0]]\n",
      "\n",
      "1D Array to add to each row:\n",
      "[1 2 3]\n",
      "\n",
      "Resulting array after addition:\n",
      "[[ 3  3  8]\n",
      " [ 8  9 12]\n",
      " [ 2  4 10]\n",
      " [ 9  2  3]]\n"
     ]
    }
   ],
   "source": [
    "import numpy as np\n",
    "arr_2d = np.random.randint(0, 10, size=(4, 3))\n",
    "print(\"Original 2D Array:\")\n",
    "print(arr_2d)\n",
    "arr_1d = np.array([1, 2, 3])\n",
    "print(\"\\n1D Array to add to each row:\")\n",
    "print(arr_1d)\n",
    "result = arr_2d + arr_1d\n",
    "print(\"\\nResulting array after addition:\")\n",
    "print(result)\n"
   ]
  },
  {
   "cell_type": "markdown",
   "id": "02345622-aa53-493d-88e3-e5b644f47c74",
   "metadata": {},
   "source": [
    "#### Multiply a 2D array of shape (3, 3) by a 1D array of shape (3,).\n"
   ]
  },
  {
   "cell_type": "code",
   "execution_count": 14,
   "id": "1ce44895-b21b-4dba-b360-650a93551d17",
   "metadata": {},
   "outputs": [
    {
     "name": "stdout",
     "output_type": "stream",
     "text": [
      "\n",
      "Original 2D Array:\n",
      "[[2 6 5]\n",
      " [6 4 3]\n",
      " [1 7 1]]\n",
      "\n",
      "1D Array for multiplication:\n",
      "[2 3 4]\n",
      "\n",
      "Resulting array after multiplication:\n",
      "[[ 4 12 10]\n",
      " [18 12  9]\n",
      " [ 4 28  4]]\n"
     ]
    }
   ],
   "source": [
    "\n",
    "arr_2d = np.random.randint(1, 10, size=(3, 3))\n",
    "print(\"\\nOriginal 2D Array:\")\n",
    "print(arr_2d)\n",
    "arr_1d = np.array([2, 3, 4])\n",
    "print(\"\\n1D Array for multiplication:\")\n",
    "print(arr_1d)\n",
    "result = arr_2d * arr_1d[:, np.newaxis]  # Ensure broadcasting correctly\n",
    "print(\"\\nResulting array after multiplication:\")\n",
    "print(result)\n"
   ]
  },
  {
   "cell_type": "markdown",
   "id": "e2964121-3d6e-4c9c-a38c-e994f438f65a",
   "metadata": {},
   "source": [
    "#### Create two 2D arrays of shapes (3, 1) and (1, 4) respectively, and perform element-wise addition."
   ]
  },
  {
   "cell_type": "code",
   "execution_count": 15,
   "id": "0172b31e-6f64-4647-bc4d-cdbf9382171c",
   "metadata": {},
   "outputs": [
    {
     "name": "stdout",
     "output_type": "stream",
     "text": [
      "\n",
      "First 2D Array (shape 3, 1):\n",
      "[[6]\n",
      " [9]\n",
      " [4]]\n",
      "\n",
      "Second 2D Array (shape 1, 4):\n",
      "[[9 9 5 4]]\n",
      "\n",
      "Resulting array after element-wise addition:\n",
      "[[15 15 11 10]\n",
      " [18 18 14 13]\n",
      " [13 13  9  8]]\n"
     ]
    }
   ],
   "source": [
    "\n",
    "arr1 = np.random.randint(1, 10, size=(3, 1))\n",
    "arr2 = np.random.randint(1, 10, size=(1, 4))\n",
    "\n",
    "print(\"\\nFirst 2D Array (shape 3, 1):\")\n",
    "print(arr1)\n",
    "print(\"\\nSecond 2D Array (shape 1, 4):\")\n",
    "print(arr2)\n",
    "result = arr1 + arr2\n",
    "print(\"\\nResulting array after element-wise addition:\")\n",
    "print(result)\n"
   ]
  },
  {
   "cell_type": "markdown",
   "id": "11a3b563-ce22-4f38-bc6a-7589c2e45d8c",
   "metadata": {},
   "source": [
    "\n",
    "#### Given a 3D array of shape (2, 3, 4), add a 2D array of shape (3, 4) to each 2D slice along the first axis."
   ]
  },
  {
   "cell_type": "code",
   "execution_count": 16,
   "id": "482dc301-b094-48b9-a417-8de6d94a6b39",
   "metadata": {},
   "outputs": [
    {
     "name": "stdout",
     "output_type": "stream",
     "text": [
      "\n",
      "Original 3D Array:\n",
      "[[[8 6 4 5]\n",
      "  [3 3 3 8]\n",
      "  [1 7 7 4]]\n",
      "\n",
      " [[2 8 6 1]\n",
      "  [6 6 6 4]\n",
      "  [2 6 6 2]]]\n",
      "\n",
      "2D Array to add to each 2D slice:\n",
      "[[1 2 1 2]\n",
      " [4 2 3 4]\n",
      " [3 3 1 4]]\n",
      "\n",
      "Resulting array after addition:\n",
      "[[[ 9  8  5  7]\n",
      "  [ 7  5  6 12]\n",
      "  [ 4 10  8  8]]\n",
      "\n",
      " [[ 3 10  7  3]\n",
      "  [10  8  9  8]\n",
      "  [ 5  9  7  6]]]\n"
     ]
    }
   ],
   "source": [
    "\n",
    "arr_3d = np.random.randint(1, 10, size=(2, 3, 4))\n",
    "print(\"\\nOriginal 3D Array:\")\n",
    "print(arr_3d)\n",
    "\n",
    "arr_add = np.random.randint(1, 5, size=(3, 4))\n",
    "print(\"\\n2D Array to add to each 2D slice:\")\n",
    "print(arr_add)\n",
    "\n",
    "result = arr_3d + arr_add[np.newaxis, :, :]\n",
    "print(\"\\nResulting array after addition:\")\n",
    "print(result)\n"
   ]
  },
  {
   "cell_type": "markdown",
   "id": "3981d003-44fa-4404-b730-73b0d392365c",
   "metadata": {},
   "source": [
    "## Some more"
   ]
  },
  {
   "cell_type": "markdown",
   "id": "143e1fe0-3bd9-4d48-a2e1-5f50d6aad025",
   "metadata": {},
   "source": [
    "#### Given a 2D array, use slicing to extract every second row and every second column, then add a 1D array to each row of the sliced array.\n",
    "\n",
    "\n",
    "\n",
    "\n"
   ]
  },
  {
   "cell_type": "code",
   "execution_count": 24,
   "id": "c452e83f-2704-4303-bb8d-878f0071bf45",
   "metadata": {},
   "outputs": [
    {
     "name": "stdout",
     "output_type": "stream",
     "text": [
      "Original 2D Array:\n",
      "[[9 4 5 7 8 9]\n",
      " [5 9 3 8 4 3]\n",
      " [3 8 1 4 1 2]\n",
      " [5 8 2 2 8 9]\n",
      " [5 4 8 1 7 7]\n",
      " [4 6 4 0 8 0]]\n",
      "\n",
      "Extracted every second row and column:\n",
      "[[9 5 8]\n",
      " [3 1 1]\n",
      " [5 8 7]]\n",
      "\n",
      "1D Array to add to each row:\n",
      "[1 2 3]\n",
      "\n",
      "Result after adding 1D array to each row:\n",
      "[[10  6  9]\n",
      " [ 5  3  3]\n",
      " [ 8 11 10]]\n"
     ]
    }
   ],
   "source": [
    "import numpy as np\n",
    "arr_2d = np.random.randint(0, 10, size=(6, 6))\n",
    "print(\"Original 2D Array:\")\n",
    "print(arr_2d)\n",
    "\n",
    "extracted = arr_2d[::2, ::2]\n",
    "print(\"\\nExtracted every second row and column:\")\n",
    "print(extracted)\n",
    "\n",
    "arr_add = np.array([1, 2, 3])  # Note: Adjusting to match the shape of extracted rows\n",
    "print(\"\\n1D Array to add to each row:\")\n",
    "print(arr_add)\n",
    "\n",
    "result = extracted + arr_add[:, np.newaxis]  # Adjusting broadcasting dimensions\n",
    "print(\"\\nResult after adding 1D array to each row:\")\n",
    "print(result)\n"
   ]
  },
  {
   "cell_type": "markdown",
   "id": "daf330f8-1d9e-406a-b6aa-d787a6c4ee0b",
   "metadata": {},
   "source": [
    "#### From a 3D array of shape (4, 3, 2), extract a sub-array using slicing and then use broadcasting to subtract a 2D array from each slice along the third axis."
   ]
  },
  {
   "cell_type": "code",
   "execution_count": 27,
   "id": "39bdcd85-c67e-4ba4-b234-d363d530085c",
   "metadata": {},
   "outputs": [
    {
     "name": "stdout",
     "output_type": "stream",
     "text": [
      "\n",
      "2D Array for subtraction:\n",
      "[[2 0]\n",
      " [2 1]]\n",
      "\n",
      "Result after subtraction using broadcasting:\n",
      "[[[ 4  8]\n",
      "  [-2  7]]\n",
      "\n",
      " [[ 2  6]\n",
      "  [ 7  7]]\n",
      "\n",
      " [[ 3  7]\n",
      "  [-2  4]]\n",
      "\n",
      " [[ 1  2]\n",
      "  [ 4  4]]]\n"
     ]
    }
   ],
   "source": [
    "\n",
    "arr_3d = np.random.randint(0, 10, size=(4, 3, 2))\n",
    "\n",
    "sub_array = arr_3d[:, 1:, :]  # Shape will be (4, 2, 2)\n",
    "arr_subtract = np.random.randint(0, 5, size=(2, 2)) \n",
    "print(\"\\n2D Array for subtraction:\")\n",
    "print(arr_subtract)\n",
    "result = sub_array - arr_subtract[np.newaxis, :, :]\n",
    "print(\"\\nResult after subtraction using broadcasting:\")\n",
    "print(result)\n"
   ]
  },
  {
   "cell_type": "markdown",
   "id": "88357edc-082a-4055-b03d-384742685f0a",
   "metadata": {},
   "source": [
    "#### Given a 2D array, extract the diagonal elements and create a 1D array."
   ]
  },
  {
   "cell_type": "code",
   "execution_count": 29,
   "id": "c0fc9593-9410-4640-8d7b-e2798d72bfc7",
   "metadata": {},
   "outputs": [
    {
     "name": "stdout",
     "output_type": "stream",
     "text": [
      "\n",
      "Original 2D Array:\n",
      "[[5 0 0 4]\n",
      " [9 9 6 8]\n",
      " [5 5 2 2]\n",
      " [4 2 8 6]]\n",
      "\n",
      "Diagonal elements as 1D array:\n",
      "[5 9 2 6]\n"
     ]
    }
   ],
   "source": [
    "\n",
    "arr_2d = np.random.randint(0, 10, size=(4, 4))\n",
    "print(\"\\nOriginal 2D Array:\")\n",
    "print(arr_2d)\n",
    "\n",
    "diagonal_elements = np.diag(arr_2d)\n",
    "print(\"\\nDiagonal elements as 1D array:\")\n",
    "print(diagonal_elements)\n"
   ]
  },
  {
   "cell_type": "markdown",
   "id": "f3285ca7-ce96-41dc-909c-747a05d5eb13",
   "metadata": {},
   "source": [
    "#### Use slicing to reverse the order of elements in each row of a 2D array."
   ]
  },
  {
   "cell_type": "code",
   "execution_count": 31,
   "id": "a98e5158-57e7-4de8-9525-e1988fb19b72",
   "metadata": {},
   "outputs": [
    {
     "name": "stdout",
     "output_type": "stream",
     "text": [
      "\n",
      "Original 2D Array:\n",
      "[[0 3 4 3 2]\n",
      " [3 3 0 5 0]\n",
      " [5 6 1 2 6]\n",
      " [8 2 4 3 3]\n",
      " [5 0 3 0 0]]\n",
      "\n",
      "Reversed order of elements in each row:\n",
      "[[2 3 4 3 0]\n",
      " [0 5 0 3 3]\n",
      " [6 2 1 6 5]\n",
      " [3 3 4 2 8]\n",
      " [0 0 3 0 5]]\n"
     ]
    }
   ],
   "source": [
    "\n",
    "arr_2d = np.random.randint(0, 10, size=(5, 5))\n",
    "print(\"\\nOriginal 2D Array:\")\n",
    "print(arr_2d)\n",
    "reversed_array = arr_2d[:, ::-1]\n",
    "print(\"\\nReversed order of elements in each row:\")\n",
    "print(reversed_array)\n"
   ]
  },
  {
   "cell_type": "markdown",
   "id": "f26f9987-d3f0-40aa-9429-8dc4085cd025",
   "metadata": {},
   "source": [
    "#### Given a 3D array of shape (4, 5, 6), use slicing to extract a sub-array of shape (2, 3, 4) and then use broadcasting to add a 1D array of shape (4,) to each row along the third axis."
   ]
  },
  {
   "cell_type": "code",
   "execution_count": 37,
   "id": "89a329d4-7555-4a23-a7aa-de54ce4b8dfa",
   "metadata": {},
   "outputs": [
    {
     "name": "stdout",
     "output_type": "stream",
     "text": [
      "\n",
      "Original 3D Array:\n",
      "[[[9 1 1 7 0 4]\n",
      "  [4 6 5 2 4 5]\n",
      "  [7 0 8 9 7 8]\n",
      "  [2 3 2 4 3 7]\n",
      "  [5 5 2 8 9 8]]\n",
      "\n",
      " [[3 0 3 0 8 0]\n",
      "  [4 4 5 6 5 3]\n",
      "  [1 1 9 9 0 3]\n",
      "  [8 2 6 9 4 9]\n",
      "  [1 7 7 8 3 0]]\n",
      "\n",
      " [[9 3 3 2 6 6]\n",
      "  [9 0 0 5 8 0]\n",
      "  [4 7 5 0 4 9]\n",
      "  [9 8 2 9 1 1]\n",
      "  [0 7 2 1 6 3]]\n",
      "\n",
      " [[9 3 2 7 1 9]\n",
      "  [6 4 2 4 2 5]\n",
      "  [8 5 6 9 3 0]\n",
      "  [0 3 3 3 4 7]\n",
      "  [0 5 4 2 3 8]]]\n"
     ]
    },
    {
     "data": {
      "text/plain": [
       "array([[[10,  3,  4, 11],\n",
       "        [ 5,  8,  8,  6],\n",
       "        [ 8,  2, 11, 13]],\n",
       "\n",
       "       [[ 4,  2,  6,  4],\n",
       "        [ 5,  6,  8, 10],\n",
       "        [ 2,  3, 12, 13]]])"
      ]
     },
     "execution_count": 37,
     "metadata": {},
     "output_type": "execute_result"
    }
   ],
   "source": [
    "arr_3d = np.random.randint(0, 10, size=(4, 5, 6))\n",
    "print(\"\\nOriginal 3D Array:\")\n",
    "print(arr_3d)\n",
    "\n",
    "sub_array = arr_3d[:2, :3, :4]\n",
    "add_array = np.array([1, 2, 3, 4])\n",
    "sub_array + add_array"
   ]
  },
  {
   "cell_type": "markdown",
   "id": "51606b4e-26e5-44df-be94-18ee46a010c4",
   "metadata": {},
   "source": [
    "#### Create a 2D array and use both slicing and broadcasting to set the last column to the sum of the first two columns for each row.\n"
   ]
  },
  {
   "cell_type": "code",
   "execution_count": 36,
   "id": "5f3452da-0d7b-4fa9-8176-cdff528ca757",
   "metadata": {},
   "outputs": [
    {
     "name": "stdout",
     "output_type": "stream",
     "text": [
      "\n",
      "Original 2D Array:\n",
      "[[2 3 2]\n",
      " [3 3 8]\n",
      " [9 9 9]\n",
      " [0 5 3]\n",
      " [6 0 4]]\n",
      "\n",
      "Result after setting last column:\n",
      "[[ 2  3  5]\n",
      " [ 3  3  6]\n",
      " [ 9  9 18]\n",
      " [ 0  5  5]\n",
      " [ 6  0  6]]\n"
     ]
    }
   ],
   "source": [
    "\n",
    "arr_2d = np.random.randint(0, 10, size=(5, 3))\n",
    "print(\"\\nOriginal 2D Array:\")\n",
    "print(arr_2d)\n",
    "\n",
    "arr_2d[:, 2] = arr_2d[:, 0] + arr_2d[:, 1]\n",
    "print(\"\\nResult after setting last column:\")\n",
    "print(arr_2d)\n"
   ]
  },
  {
   "cell_type": "markdown",
   "id": "9e69f665-2b6b-4961-84ed-dea4983b4f71",
   "metadata": {},
   "source": [
    "#### Given a 2D array, use slicing to extract every second row and every second column, then add a 1D array to each row of the sliced array.\n",
    "\n",
    "\n",
    "\n"
   ]
  },
  {
   "cell_type": "code",
   "execution_count": 47,
   "id": "418ef693-054a-4345-a4de-903e5f568339",
   "metadata": {},
   "outputs": [
    {
     "name": "stdout",
     "output_type": "stream",
     "text": [
      "Original 2D Array:\n",
      "[[0 2 4 9 5 8]\n",
      " [6 6 1 6 9 0]\n",
      " [1 5 3 1 3 1]\n",
      " [4 8 1 5 7 9]\n",
      " [5 8 1 2 5 5]\n",
      " [5 9 6 9 2 4]]\n",
      "\n",
      "Result after adding 1D array to each row:\n",
      "[[ 7  7  1]\n",
      " [10  7 11]\n",
      " [12 12  7]]\n"
     ]
    }
   ],
   "source": [
    "import numpy as np\n",
    "\n",
    "# Create a 2D array\n",
    "arr_2d = np.random.randint(0, 10, size=(6, 6))\n",
    "print(\"Original 2D Array:\")\n",
    "print(arr_2d)\n",
    "\n",
    "# Extract every second row and column\n",
    "extracted = arr_2d[1::2, 1::2]\n",
    "\n",
    "# Create a 1D array to add to each row of the sliced array\n",
    "arr_add = np.array([1, 2, 3])  # Adjusted to match the number of rows in extracted\n",
    "result = extracted + arr_add[:, np.newaxis]\n",
    "print(\"\\nResult after adding 1D array to each row:\")\n",
    "print(result)\n"
   ]
  },
  {
   "cell_type": "markdown",
   "id": "69b194d0-27da-414c-929c-c6102e4c90f0",
   "metadata": {},
   "source": [
    "#### From a 3D array of shape (3, 2, 1), extract a sub-array using slicing and then use broadcasting to subtract a 2D array from each slice along the third axis."
   ]
  },
  {
   "cell_type": "code",
   "execution_count": 49,
   "id": "26fba675-db58-47f7-b564-e34c6d165202",
   "metadata": {},
   "outputs": [
    {
     "name": "stdout",
     "output_type": "stream",
     "text": [
      "\n",
      "Original 3D Array:\n",
      "[[[2]\n",
      "  [8]]\n",
      "\n",
      " [[6]\n",
      "  [5]]\n",
      "\n",
      " [[0]\n",
      "  [4]]]\n",
      "\n",
      "Result after subtraction using broadcasting:\n",
      "[[-2  7]\n",
      " [ 3  4]\n",
      " [-3  4]]\n"
     ]
    }
   ],
   "source": [
    "# Create a 3D array\n",
    "arr_3d = np.random.randint(0, 10, size=(3, 2, 1))\n",
    "print(\"\\nOriginal 3D Array:\")\n",
    "print(arr_3d)\n",
    "\n",
    "\n",
    "sub_array = arr_3d[:, :, 0]  # Shape will be (3, 2)\n",
    "\n",
    "arr_subtract = np.random.randint(0, 5, size=(3, 2))  # Adjusted to match the shape of sub_array slices\n",
    "result = sub_array - arr_subtract\n",
    "print(\"\\nResult after subtraction using broadcasting:\")\n",
    "print(result)\n"
   ]
  },
  {
   "cell_type": "markdown",
   "id": "0f546a3d-07c2-4d67-869e-e5bbedc75124",
   "metadata": {},
   "source": [
    "#### Given a 2D array, extract the diagonal elements and create a 1D array."
   ]
  },
  {
   "cell_type": "code",
   "execution_count": 50,
   "id": "076586c4-4e04-4b1c-afa5-cdb173a6acb0",
   "metadata": {},
   "outputs": [
    {
     "name": "stdout",
     "output_type": "stream",
     "text": [
      "\n",
      "Original 2D Array:\n",
      "[[6 1 4 5]\n",
      " [0 6 5 8]\n",
      " [9 2 0 0]\n",
      " [7 2 1 5]]\n",
      "\n",
      "Diagonal elements as 1D array:\n",
      "[6 6 0 5]\n"
     ]
    }
   ],
   "source": [
    "# Create a 2D array\n",
    "arr_2d = np.random.randint(0, 10, size=(4, 4))\n",
    "print(\"\\nOriginal 2D Array:\")\n",
    "print(arr_2d)\n",
    "\n",
    "# Extract diagonal elements\n",
    "diagonal_elements = np.diag(arr_2d)\n",
    "print(\"\\nDiagonal elements as 1D array:\")\n",
    "print(diagonal_elements)\n"
   ]
  },
  {
   "cell_type": "markdown",
   "id": "c79f2a3b-b6ac-47c2-b4e8-88f5c108b456",
   "metadata": {},
   "source": [
    "\n",
    "#### Use slicing to reverse the order of elements in each row of a 2D array."
   ]
  },
  {
   "cell_type": "code",
   "execution_count": 51,
   "id": "ffcf00fc-0187-435f-b489-06e84267c5f0",
   "metadata": {},
   "outputs": [
    {
     "name": "stdout",
     "output_type": "stream",
     "text": [
      "\n",
      "Original 2D Array:\n",
      "[[1 1 0 7 2]\n",
      " [3 4 2 2 5]\n",
      " [0 2 9 5 1]\n",
      " [7 1 1 8 0]\n",
      " [8 3 1 7 2]]\n",
      "\n",
      "Reversed order of elements in each row:\n",
      "[[2 7 0 1 1]\n",
      " [5 2 2 4 3]\n",
      " [1 5 9 2 0]\n",
      " [0 8 1 1 7]\n",
      " [2 7 1 3 8]]\n"
     ]
    }
   ],
   "source": [
    "# Create a 2D array\n",
    "arr_2d = np.random.randint(0, 10, size=(5, 5))\n",
    "print(\"\\nOriginal 2D Array:\")\n",
    "print(arr_2d)\n",
    "\n",
    "# Reverse the order of elements in each row using slicing\n",
    "reversed_array = arr_2d[:, ::-1]\n",
    "print(\"\\nReversed order of elements in each row:\")\n",
    "print(reversed_array)\n"
   ]
  },
  {
   "cell_type": "markdown",
   "id": "fca8d1b7-c8ec-4d74-a8e0-37479dcd28bd",
   "metadata": {},
   "source": [
    "#### Given a 3D array of shape (7, 6, 5), use slicing to extract a sub-array of shape (2, 3, 4) and then use broadcasting to add a 1D array of shape (4,) to each row along the third axis."
   ]
  },
  {
   "cell_type": "code",
   "execution_count": 54,
   "id": "44b2710c-4252-47e7-bf62-b96415320c2d",
   "metadata": {},
   "outputs": [
    {
     "name": "stdout",
     "output_type": "stream",
     "text": [
      "Original 3D Array:\n",
      "[[[1]\n",
      "  [3]]\n",
      "\n",
      " [[5]\n",
      "  [2]]\n",
      "\n",
      " [[4]\n",
      "  [8]]]\n",
      "\n",
      "Result after addition using broadcasting:\n",
      "[[[ 2  4]\n",
      "  [ 6  3]\n",
      "  [ 5  9]]\n",
      "\n",
      " [[ 3  5]\n",
      "  [ 7  4]\n",
      "  [ 6 10]]\n",
      "\n",
      " [[ 4  6]\n",
      "  [ 8  5]\n",
      "  [ 7 11]]\n",
      "\n",
      " [[ 5  7]\n",
      "  [ 9  6]\n",
      "  [ 8 12]]]\n"
     ]
    }
   ],
   "source": [
    "\n",
    "arr_3d = np.random.randint(0, 10, size=(3, 2, 1))\n",
    "print(\"Original 3D Array:\")\n",
    "print(arr_3d)\n",
    "\n",
    "sub_array = arr_3d[:, :, 0]  # Shape will be (3, 2)\n",
    "arr_add = np.array([1, 2, 3, 4])  # Adjusted to match the shape along the third axis\n",
    "result = sub_array + arr_add[:, np.newaxis, np.newaxis]\n",
    "print(\"\\nResult after addition using broadcasting:\")\n",
    "print(result)"
   ]
  },
  {
   "cell_type": "code",
   "execution_count": null,
   "id": "e8ad5309-a9ac-4539-9239-2e2e08474c49",
   "metadata": {},
   "outputs": [],
   "source": []
  }
 ],
 "metadata": {
  "kernelspec": {
   "display_name": "Python 3 (ipykernel)",
   "language": "python",
   "name": "python3"
  },
  "language_info": {
   "codemirror_mode": {
    "name": "ipython",
    "version": 3
   },
   "file_extension": ".py",
   "mimetype": "text/x-python",
   "name": "python",
   "nbconvert_exporter": "python",
   "pygments_lexer": "ipython3",
   "version": "3.11.7"
  }
 },
 "nbformat": 4,
 "nbformat_minor": 5
}
